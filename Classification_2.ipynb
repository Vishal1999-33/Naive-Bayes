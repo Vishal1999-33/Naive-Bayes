{
 "cells": [
  {
   "cell_type": "code",
   "execution_count": 1,
   "metadata": {},
   "outputs": [
    {
     "data": {
      "text/html": [
       "<div>\n",
       "<style scoped>\n",
       "    .dataframe tbody tr th:only-of-type {\n",
       "        vertical-align: middle;\n",
       "    }\n",
       "\n",
       "    .dataframe tbody tr th {\n",
       "        vertical-align: top;\n",
       "    }\n",
       "\n",
       "    .dataframe thead th {\n",
       "        text-align: right;\n",
       "    }\n",
       "</style>\n",
       "<table border=\"1\" class=\"dataframe\">\n",
       "  <thead>\n",
       "    <tr style=\"text-align: right;\">\n",
       "      <th></th>\n",
       "      <th>text,label</th>\n",
       "      <th>Unnamed: 1</th>\n",
       "      <th>Unnamed: 2</th>\n",
       "    </tr>\n",
       "  </thead>\n",
       "  <tbody>\n",
       "    <tr>\n",
       "      <th>0</th>\n",
       "      <td>Stuning even for the non-gamer: This sound tra...</td>\n",
       "      <td>NaN</td>\n",
       "      <td>NaN</td>\n",
       "    </tr>\n",
       "    <tr>\n",
       "      <th>1</th>\n",
       "      <td>\" The best soundtrack ever to anything.: I'm r...</td>\n",
       "      <td>NaN</td>\n",
       "      <td>NaN</td>\n",
       "    </tr>\n",
       "    <tr>\n",
       "      <th>2</th>\n",
       "      <td>\" Amazing!: This soundtrack is my favorite mus...</td>\n",
       "      <td>NaN</td>\n",
       "      <td>NaN</td>\n",
       "    </tr>\n",
       "    <tr>\n",
       "      <th>3</th>\n",
       "      <td>\" Excellent Soundtrack: I truly like this soun...</td>\n",
       "      <td>NaN</td>\n",
       "      <td>NaN</td>\n",
       "    </tr>\n",
       "    <tr>\n",
       "      <th>4</th>\n",
       "      <td>\" Remember, Pull Your Jaw Off The Floor After ...</td>\n",
       "      <td>NaN</td>\n",
       "      <td>NaN</td>\n",
       "    </tr>\n",
       "  </tbody>\n",
       "</table>\n",
       "</div>"
      ],
      "text/plain": [
       "                                          text,label Unnamed: 1 Unnamed: 2\n",
       "0  Stuning even for the non-gamer: This sound tra...        NaN        NaN\n",
       "1  \" The best soundtrack ever to anything.: I'm r...        NaN        NaN\n",
       "2  \" Amazing!: This soundtrack is my favorite mus...        NaN        NaN\n",
       "3  \" Excellent Soundtrack: I truly like this soun...        NaN        NaN\n",
       "4  \" Remember, Pull Your Jaw Off The Floor After ...        NaN        NaN"
      ]
     },
     "execution_count": 1,
     "metadata": {},
     "output_type": "execute_result"
    }
   ],
   "source": [
    "import pandas as pd\n",
    "df=pd.read_fwf('text.txt',sep=',',encoding='latin-1')\n",
    "df.to_csv('log.csv')\n",
    "df.head()"
   ]
  },
  {
   "cell_type": "code",
   "execution_count": 2,
   "metadata": {},
   "outputs": [
    {
     "data": {
      "text/html": [
       "<div>\n",
       "<style scoped>\n",
       "    .dataframe tbody tr th:only-of-type {\n",
       "        vertical-align: middle;\n",
       "    }\n",
       "\n",
       "    .dataframe tbody tr th {\n",
       "        vertical-align: top;\n",
       "    }\n",
       "\n",
       "    .dataframe thead th {\n",
       "        text-align: right;\n",
       "    }\n",
       "</style>\n",
       "<table border=\"1\" class=\"dataframe\">\n",
       "  <thead>\n",
       "    <tr style=\"text-align: right;\">\n",
       "      <th></th>\n",
       "      <th>text,label</th>\n",
       "      <th>Unnamed: 1</th>\n",
       "    </tr>\n",
       "  </thead>\n",
       "  <tbody>\n",
       "    <tr>\n",
       "      <th>0</th>\n",
       "      <td>Stuning even for the non-gamer: This sound tra...</td>\n",
       "      <td>NaN</td>\n",
       "    </tr>\n",
       "    <tr>\n",
       "      <th>1</th>\n",
       "      <td>\" The best soundtrack ever to anything.: I'm r...</td>\n",
       "      <td>NaN</td>\n",
       "    </tr>\n",
       "    <tr>\n",
       "      <th>2</th>\n",
       "      <td>\" Amazing!: This soundtrack is my favorite mus...</td>\n",
       "      <td>NaN</td>\n",
       "    </tr>\n",
       "    <tr>\n",
       "      <th>3</th>\n",
       "      <td>\" Excellent Soundtrack: I truly like this soun...</td>\n",
       "      <td>NaN</td>\n",
       "    </tr>\n",
       "    <tr>\n",
       "      <th>4</th>\n",
       "      <td>\" Remember, Pull Your Jaw Off The Floor After ...</td>\n",
       "      <td>NaN</td>\n",
       "    </tr>\n",
       "  </tbody>\n",
       "</table>\n",
       "</div>"
      ],
      "text/plain": [
       "                                          text,label Unnamed: 1\n",
       "0  Stuning even for the non-gamer: This sound tra...        NaN\n",
       "1  \" The best soundtrack ever to anything.: I'm r...        NaN\n",
       "2  \" Amazing!: This soundtrack is my favorite mus...        NaN\n",
       "3  \" Excellent Soundtrack: I truly like this soun...        NaN\n",
       "4  \" Remember, Pull Your Jaw Off The Floor After ...        NaN"
      ]
     },
     "execution_count": 2,
     "metadata": {},
     "output_type": "execute_result"
    }
   ],
   "source": [
    "df.drop('Unnamed: 2',axis=1,inplace=True)\n",
    "df.head(5)"
   ]
  },
  {
   "cell_type": "code",
   "execution_count": 3,
   "metadata": {},
   "outputs": [],
   "source": [
    "x=[]\n",
    "for entry in df['text,label']:\n",
    "    x.append(entry.split('__')[-1])"
   ]
  },
  {
   "cell_type": "code",
   "execution_count": 4,
   "metadata": {},
   "outputs": [],
   "source": [
    "df['Unnamed: 1']=x"
   ]
  },
  {
   "cell_type": "code",
   "execution_count": 5,
   "metadata": {},
   "outputs": [
    {
     "data": {
      "text/html": [
       "<div>\n",
       "<style scoped>\n",
       "    .dataframe tbody tr th:only-of-type {\n",
       "        vertical-align: middle;\n",
       "    }\n",
       "\n",
       "    .dataframe tbody tr th {\n",
       "        vertical-align: top;\n",
       "    }\n",
       "\n",
       "    .dataframe thead th {\n",
       "        text-align: right;\n",
       "    }\n",
       "</style>\n",
       "<table border=\"1\" class=\"dataframe\">\n",
       "  <thead>\n",
       "    <tr style=\"text-align: right;\">\n",
       "      <th></th>\n",
       "      <th>text,label</th>\n",
       "      <th>Unnamed: 1</th>\n",
       "    </tr>\n",
       "  </thead>\n",
       "  <tbody>\n",
       "    <tr>\n",
       "      <th>0</th>\n",
       "      <td>Stuning even for the non-gamer: This sound tra...</td>\n",
       "      <td>2</td>\n",
       "    </tr>\n",
       "    <tr>\n",
       "      <th>1</th>\n",
       "      <td>\" The best soundtrack ever to anything.: I'm r...</td>\n",
       "      <td>2</td>\n",
       "    </tr>\n",
       "    <tr>\n",
       "      <th>2</th>\n",
       "      <td>\" Amazing!: This soundtrack is my favorite mus...</td>\n",
       "      <td>2</td>\n",
       "    </tr>\n",
       "    <tr>\n",
       "      <th>3</th>\n",
       "      <td>\" Excellent Soundtrack: I truly like this soun...</td>\n",
       "      <td>2</td>\n",
       "    </tr>\n",
       "    <tr>\n",
       "      <th>4</th>\n",
       "      <td>\" Remember, Pull Your Jaw Off The Floor After ...</td>\n",
       "      <td>2</td>\n",
       "    </tr>\n",
       "    <tr>\n",
       "      <th>5</th>\n",
       "      <td>\" an absolute masterpiece: I am quite sure any...</td>\n",
       "      <td>2</td>\n",
       "    </tr>\n",
       "    <tr>\n",
       "      <th>6</th>\n",
       "      <td>\" Buyer beware: This is a self-published book,...</td>\n",
       "      <td>1</td>\n",
       "    </tr>\n",
       "    <tr>\n",
       "      <th>7</th>\n",
       "      <td>\" Glorious story: I loved Whisper of the wicke...</td>\n",
       "      <td>2</td>\n",
       "    </tr>\n",
       "    <tr>\n",
       "      <th>8</th>\n",
       "      <td>\" A FIVE STAR BOOK: I just finished reading Wh...</td>\n",
       "      <td>2</td>\n",
       "    </tr>\n",
       "    <tr>\n",
       "      <th>9</th>\n",
       "      <td>\" Whispers of the Wicked Saints: This was a ea...</td>\n",
       "      <td>2</td>\n",
       "    </tr>\n",
       "  </tbody>\n",
       "</table>\n",
       "</div>"
      ],
      "text/plain": [
       "                                          text,label Unnamed: 1\n",
       "0  Stuning even for the non-gamer: This sound tra...          2\n",
       "1  \" The best soundtrack ever to anything.: I'm r...          2\n",
       "2  \" Amazing!: This soundtrack is my favorite mus...          2\n",
       "3  \" Excellent Soundtrack: I truly like this soun...          2\n",
       "4  \" Remember, Pull Your Jaw Off The Floor After ...          2\n",
       "5  \" an absolute masterpiece: I am quite sure any...          2\n",
       "6  \" Buyer beware: This is a self-published book,...          1\n",
       "7  \" Glorious story: I loved Whisper of the wicke...          2\n",
       "8  \" A FIVE STAR BOOK: I just finished reading Wh...          2\n",
       "9  \" Whispers of the Wicked Saints: This was a ea...          2"
      ]
     },
     "execution_count": 5,
     "metadata": {},
     "output_type": "execute_result"
    }
   ],
   "source": [
    "df.head(10)"
   ]
  },
  {
   "cell_type": "code",
   "execution_count": 6,
   "metadata": {},
   "outputs": [
    {
     "data": {
      "text/html": [
       "<div>\n",
       "<style scoped>\n",
       "    .dataframe tbody tr th:only-of-type {\n",
       "        vertical-align: middle;\n",
       "    }\n",
       "\n",
       "    .dataframe tbody tr th {\n",
       "        vertical-align: top;\n",
       "    }\n",
       "\n",
       "    .dataframe thead th {\n",
       "        text-align: right;\n",
       "    }\n",
       "</style>\n",
       "<table border=\"1\" class=\"dataframe\">\n",
       "  <thead>\n",
       "    <tr style=\"text-align: right;\">\n",
       "      <th></th>\n",
       "      <th>text</th>\n",
       "      <th>label</th>\n",
       "    </tr>\n",
       "  </thead>\n",
       "  <tbody>\n",
       "    <tr>\n",
       "      <th>0</th>\n",
       "      <td>Stuning even for the non-gamer: This sound tra...</td>\n",
       "      <td>2</td>\n",
       "    </tr>\n",
       "    <tr>\n",
       "      <th>1</th>\n",
       "      <td>\" The best soundtrack ever to anything.: I'm r...</td>\n",
       "      <td>2</td>\n",
       "    </tr>\n",
       "    <tr>\n",
       "      <th>2</th>\n",
       "      <td>\" Amazing!: This soundtrack is my favorite mus...</td>\n",
       "      <td>2</td>\n",
       "    </tr>\n",
       "    <tr>\n",
       "      <th>3</th>\n",
       "      <td>\" Excellent Soundtrack: I truly like this soun...</td>\n",
       "      <td>2</td>\n",
       "    </tr>\n",
       "    <tr>\n",
       "      <th>4</th>\n",
       "      <td>\" Remember, Pull Your Jaw Off The Floor After ...</td>\n",
       "      <td>2</td>\n",
       "    </tr>\n",
       "  </tbody>\n",
       "</table>\n",
       "</div>"
      ],
      "text/plain": [
       "                                                text label\n",
       "0  Stuning even for the non-gamer: This sound tra...     2\n",
       "1  \" The best soundtrack ever to anything.: I'm r...     2\n",
       "2  \" Amazing!: This soundtrack is my favorite mus...     2\n",
       "3  \" Excellent Soundtrack: I truly like this soun...     2\n",
       "4  \" Remember, Pull Your Jaw Off The Floor After ...     2"
      ]
     },
     "execution_count": 6,
     "metadata": {},
     "output_type": "execute_result"
    }
   ],
   "source": [
    "df.columns=['text','label']\n",
    "df.head()"
   ]
  },
  {
   "cell_type": "code",
   "execution_count": 7,
   "metadata": {},
   "outputs": [],
   "source": [
    "import numpy as np\n",
    "from nltk.tokenize import word_tokenize\n",
    "from nltk import pos_tag\n",
    "from nltk.corpus import stopwords\n",
    "from nltk.stem import WordNetLemmatizer\n",
    "from sklearn.preprocessing import LabelEncoder\n",
    "from collections import defaultdict\n",
    "from nltk.corpus import wordnet as wn\n",
    "from sklearn.feature_extraction.text import TfidfVectorizer\n",
    "from sklearn import model_selection, naive_bayes, svm\n",
    "from sklearn.metrics import accuracy_score"
   ]
  },
  {
   "cell_type": "code",
   "execution_count": 8,
   "metadata": {},
   "outputs": [],
   "source": [
    "np.random.seed(500)"
   ]
  },
  {
   "cell_type": "code",
   "execution_count": 9,
   "metadata": {},
   "outputs": [],
   "source": [
    "#removing blank rows if any\n",
    "df['text'].dropna(inplace=True)"
   ]
  },
  {
   "cell_type": "code",
   "execution_count": 10,
   "metadata": {},
   "outputs": [],
   "source": [
    "#changing text to lowercase\n",
    "df['text']=[entry.lower() for entry in df['text']]"
   ]
  },
  {
   "cell_type": "code",
   "execution_count": 11,
   "metadata": {},
   "outputs": [],
   "source": [
    "#breaking a stream of text into words,phrases,symbols etc\n",
    "df['text']=[word_tokenize(entry) for entry in df['text']]"
   ]
  },
  {
   "cell_type": "code",
   "execution_count": 12,
   "metadata": {},
   "outputs": [],
   "source": [
    "tag_map = defaultdict(lambda : wn.NOUN)\n",
    "tag_map['J'] = wn.ADJ\n",
    "tag_map['V'] = wn.VERB\n",
    "tag_map['R'] = wn.ADV\n",
    "\n",
    "for index,entry in enumerate(df['text']):\n",
    "    Final_words = []\n",
    "    word_Lemmatized = WordNetLemmatizer()\n",
    "    \n",
    "    for word, tag in pos_tag(entry):\n",
    "        if word not in stopwords.words('english') and word.isalpha():\n",
    "            word_Final = word_Lemmatized.lemmatize(word,tag_map[tag[0]])\n",
    "            Final_words.append(word_Final)\n",
    "    \n",
    "    df.loc[index,'text_final'] = str(Final_words)"
   ]
  },
  {
   "cell_type": "code",
   "execution_count": null,
   "metadata": {},
   "outputs": [],
   "source": [
    "###isalpha() methods returns “True” if all characters in the string are alphabets.\n",
    "###for stopwords.words('english') it contains:\n",
    "#{‘ourselves’, ‘hers’, ‘between’, ‘yourself’, ‘but’, ‘again’, ‘there’, ‘about’, ‘once’, ‘during’, ‘out’, ‘very’, ‘having’,\n",
    "#‘with’, ‘they’, ‘own’, ‘an’, ‘be’, ‘some’, ‘for’, ‘do’, ‘its’, ‘yours’, ‘such’, ‘into’, ‘of’, ‘most’, ‘itself’, ‘other’, \n",
    "#‘off’, ‘is’, ‘s’, ‘am’, ‘or’, ‘who’, ‘as’, ‘from’, ‘him’, ‘each’, ‘the’, ‘themselves’, ‘until’, ‘below’, ‘are’, ‘we’,\n",
    "#‘these’, ‘your’, ‘his’, ‘through’, ‘don’, ‘nor’, ‘me’, ‘were’, ‘her’, ‘more’, ‘himself’, ‘this’, ‘down’, ‘should’, ‘our’,\n",
    "#‘their’, ‘while’, ‘above’, ‘both’, ‘up’, ‘to’, ‘ours’, ‘had’, ‘she’, ‘all’, ‘no’, ‘when’, ‘at’, ‘any’, ‘before’, ‘them’,\n",
    "#‘same’, ‘and’, ‘been’, ‘have’, ‘in’, ‘will’, ‘on’, ‘does’, ‘yourselves’, ‘then’, ‘that’, ‘because’, ‘what’, ‘over’, ‘why’,\n",
    "#‘so’, ‘can’, ‘did’, ‘not’, ‘now’, ‘under’, ‘he’, ‘you’, ‘herself’, ‘has’, ‘just’, ‘where’, ‘too’, ‘only’, ‘myself’, ‘which’,\n",
    "#‘those’, ‘i’, ‘after’, ‘few’, ‘whom’, ‘t’, ‘being’, ‘if’, ‘theirs’, ‘my’, ‘against’, ‘a’, ‘by’, ‘doing’, ‘it’, ‘how’,\n",
    "#‘further’, ‘was’, ‘here’, ‘than’}"
   ]
  },
  {
   "cell_type": "code",
   "execution_count": 13,
   "metadata": {},
   "outputs": [
    {
     "data": {
      "text/html": [
       "<div>\n",
       "<style scoped>\n",
       "    .dataframe tbody tr th:only-of-type {\n",
       "        vertical-align: middle;\n",
       "    }\n",
       "\n",
       "    .dataframe tbody tr th {\n",
       "        vertical-align: top;\n",
       "    }\n",
       "\n",
       "    .dataframe thead th {\n",
       "        text-align: right;\n",
       "    }\n",
       "</style>\n",
       "<table border=\"1\" class=\"dataframe\">\n",
       "  <thead>\n",
       "    <tr style=\"text-align: right;\">\n",
       "      <th></th>\n",
       "      <th>text</th>\n",
       "      <th>label</th>\n",
       "      <th>text_final</th>\n",
       "    </tr>\n",
       "  </thead>\n",
       "  <tbody>\n",
       "    <tr>\n",
       "      <th>0</th>\n",
       "      <td>[stuning, even, for, the, non-gamer, :, this, ...</td>\n",
       "      <td>2</td>\n",
       "      <td>['stun', 'even', 'sound', 'track', 'beautiful'...</td>\n",
       "    </tr>\n",
       "    <tr>\n",
       "      <th>1</th>\n",
       "      <td>[``, the, best, soundtrack, ever, to, anything...</td>\n",
       "      <td>2</td>\n",
       "      <td>['best', 'soundtrack', 'ever', 'anything', 're...</td>\n",
       "    </tr>\n",
       "    <tr>\n",
       "      <th>2</th>\n",
       "      <td>[``, amazing, !, :, this, soundtrack, is, my, ...</td>\n",
       "      <td>2</td>\n",
       "      <td>['amazing', 'soundtrack', 'favorite', 'music',...</td>\n",
       "    </tr>\n",
       "    <tr>\n",
       "      <th>3</th>\n",
       "      <td>[``, excellent, soundtrack, :, i, truly, like,...</td>\n",
       "      <td>2</td>\n",
       "      <td>['excellent', 'soundtrack', 'truly', 'like', '...</td>\n",
       "    </tr>\n",
       "    <tr>\n",
       "      <th>4</th>\n",
       "      <td>[``, remember, ,, pull, your, jaw, off, the, f...</td>\n",
       "      <td>2</td>\n",
       "      <td>['remember', 'pull', 'jaw', 'floor', 'hear', '...</td>\n",
       "    </tr>\n",
       "  </tbody>\n",
       "</table>\n",
       "</div>"
      ],
      "text/plain": [
       "                                                text label  \\\n",
       "0  [stuning, even, for, the, non-gamer, :, this, ...     2   \n",
       "1  [``, the, best, soundtrack, ever, to, anything...     2   \n",
       "2  [``, amazing, !, :, this, soundtrack, is, my, ...     2   \n",
       "3  [``, excellent, soundtrack, :, i, truly, like,...     2   \n",
       "4  [``, remember, ,, pull, your, jaw, off, the, f...     2   \n",
       "\n",
       "                                          text_final  \n",
       "0  ['stun', 'even', 'sound', 'track', 'beautiful'...  \n",
       "1  ['best', 'soundtrack', 'ever', 'anything', 're...  \n",
       "2  ['amazing', 'soundtrack', 'favorite', 'music',...  \n",
       "3  ['excellent', 'soundtrack', 'truly', 'like', '...  \n",
       "4  ['remember', 'pull', 'jaw', 'floor', 'hear', '...  "
      ]
     },
     "execution_count": 13,
     "metadata": {},
     "output_type": "execute_result"
    }
   ],
   "source": [
    "df.head()"
   ]
  },
  {
   "cell_type": "code",
   "execution_count": 14,
   "metadata": {},
   "outputs": [],
   "source": [
    "Train_X, Test_X, Train_Y, Test_Y = model_selection.train_test_split(df['text_final'],df['label'],test_size=0.3)"
   ]
  },
  {
   "cell_type": "code",
   "execution_count": 15,
   "metadata": {},
   "outputs": [],
   "source": [
    "Tfidf_vect = TfidfVectorizer(max_features=5000)\n",
    "Tfidf_vect.fit(df['text_final'])\n",
    "Train_X_Tfidf = Tfidf_vect.transform(Train_X)\n",
    "Test_X_Tfidf = Tfidf_vect.transform(Test_X)"
   ]
  },
  {
   "cell_type": "code",
   "execution_count": 16,
   "metadata": {},
   "outputs": [
    {
     "name": "stdout",
     "output_type": "stream",
     "text": [
      "{'even': 1533, 'sound': 4131, 'track': 4566, 'beautiful': 379, 'paint': 3170, 'mind': 2837, 'well': 4867, 'would': 4952, 'recomend': 3606, 'people': 3237, 'hate': 2064, 'video': 4775, 'game': 1867, 'music': 2928, 'play': 3305, 'cross': 1024, 'ever': 1537, 'best': 421, 'back': 321, 'away': 311, 'crude': 1027, 'take': 4376, 'fresh': 1827, 'step': 4220, 'guitar': 2015, 'soulful': 4128, 'orchestra': 3104, 'impress': 2240, 'anyone': 195, 'care': 638, 'listen': 2600, 'soundtrack': 4133, 'anything': 196, 'read': 3572, 'lot': 2645, 'review': 3722, 'say': 3839, 'figure': 1699, 'write': 4958, 'disagree': 1230, 'bit': 442, 'ultimate': 4647, 'masterpiece': 2746, 'timeless': 4510, 'year': 4977, 'beauty': 381, 'simply': 4013, 'refuse': 3631, 'price': 3410, 'tag': 4375, 'pretty': 3405, 'must': 2934, 'go': 1938, 'buy': 593, 'cd': 671, 'much': 2918, 'money': 2875, 'one': 3082, 'feel': 1676, 'worth': 4948, 'every': 1539, 'penny': 3236, 'amazing': 148, 'favorite': 1665, 'time': 4509, 'hand': 2035, 'intense': 2326, 'sadness': 3805, 'prisoner': 3424, 'fate': 1660, 'mean': 2765, 'hope': 2153, 'distant': 1269, 'promise': 3452, 'girl': 1919, 'steal': 4215, 'star': 4205, 'important': 2237, 'inspiration': 2303, 'personally': 3256, 'throughout': 4491, 'teen': 4408, 'high': 2113, 'energy': 1472, 'like': 2577, 'trigger': 4603, 'absolutely': 7, 'superb': 4319, 'probably': 3429, 'composer': 879, 'work': 4937, 'hear': 2081, 'ca': 598, 'sure': 4332, 'never': 2980, 'twice': 4633, 'wish': 4917, 'could': 973, 'give': 1921, 'excellent': 1563, 'truly': 4617, 'enjoy': 1482, 'disk': 1256, 'scar': 3844, 'life': 2567, 'death': 1092, 'ancient': 166, 'dragon': 1318, 'lose': 2641, 'drown': 1342, 'two': 4638, 'home': 2143, 'girlfriend': 1920, 'three': 4487, 'garden': 1877, 'god': 1940, 'sea': 3883, 'burn': 583, 'tower': 4561, 'radical': 3534, 'bring': 545, 'remember': 3662, 'pull': 3484, 'jaw': 2394, 'floor': 1754, 'know': 2468, 'single': 4022, 'song': 4112, 'tell': 4413, 'story': 4246, 'good': 1946, 'great': 1982, 'without': 4921, 'doubt': 1305, 'magical': 2683, 'wind': 4904, 'jewel': 2408, 'translation': 4581, 'perfect': 3242, 'ask': 255, 'pour': 3365, 'heart': 2084, 'paper': 3181, 'absolute': 6, 'quite': 3522, 'actually': 48, 'least': 2534, 'heard': 2082, 'whether': 4878, 'aware': 310, 'contribute': 939, 'greatly': 1983, 'mood': 2887, 'minute': 2848, 'whole': 4885, 'exact': 1554, 'count': 975, 'remarkable': 3660, 'assure': 266, 'forget': 1786, 'everything': 1543, 'listener': 2602, 'dance': 1066, 'slow': 4066, 'haunting': 2067, 'purely': 3495, 'beautifully': 380, 'compose': 878, 'fantastic': 1648, 'vocal': 4803, 'surely': 4333, 'buyer': 594, 'beware': 424, 'book': 487, 'want': 4823, 'paragraph': 3188, 'family': 1643, 'friend': 1831, 'perhaps': 3248, 'imagine': 2227, 'thing': 4471, 'spend': 4164, 'evening': 1534, 'piece': 3279, 'another': 185, 'definitely': 1121, 'bad': 326, 'enough': 1487, 'enter': 1489, 'kind': 2454, 'contest': 931, 'believe': 402, 'amazon': 150, 'sell': 3909, 'maybe': 2759, 'offer': 3068, 'grade': 1962, 'term': 4430, 'kill': 2451, 'anyway': 198, 'unless': 4691, 'send': 3911, 'someone': 4105, 'joke': 2419, 'far': 1650, 'glorious': 1930, 'love': 2650, 'wicked': 4888, 'saint': 3810, 'pleasantly': 3312, 'surprise': 4339, 'change': 696, 'romance': 3766, 'novel': 3033, 'world': 4943, 'rave': 3567, 'brilliant': 543, 'true': 4615, 'wonderful': 4930, 'typical': 4640, 'crime': 1012, 'becuase': 385, 'miss': 2856, 'warm': 4825, 'five': 1733, 'finish': 1715, 'fell': 1679, 'expect': 1587, 'average': 303, 'instead': 2314, 'find': 1711, 'think': 4472, 'predict': 3382, 'outcome': 3126, 'shock': 3977, 'descriptive': 1162, 'break': 527, 'julia': 2428, 'felt': 1682, 'reader': 3574, 'lover': 2654, 'let': 2555, 'cover': 986, 'fool': 1777, 'spectacular': 4159, 'easy': 1392, 'make': 2696, 'keep': 2443, 'reading': 3576, 'put': 3503, 'leave': 2536, 'follow': 1771, 'come': 832, 'soon': 4116, 'use': 4725, 'get': 1908, 'enjoyable': 1483, 'complete': 870, 'waste': 4839, 'error': 1514, 'poor': 3337, 'grammar': 1967, 'totally': 4551, 'pathetic': 3214, 'plot': 3317, 'add': 55, 'nothing': 3028, 'embarrass': 1448, 'author': 295, 'disappointed': 1234, 'pay': 3223, 'fast': 1657, 'boy': 513, 'twist': 4636, 'turn': 4626, 'guess': 2007, 'happen': 2042, 'next': 2988, 'fall': 1639, 'heat': 2085, 'also': 136, 'several': 3940, 'emotion': 1452, 'quick': 3515, 'something': 4106, 'end': 1467, 'day': 1084, 'night': 2997, 'yet': 4985, 'realistic': 3581, 'show': 3988, 'human': 2184, 'fact': 1625, 'writer': 4960, 'loving': 2655, 'side': 3995, 'glass': 1924, 'castle': 658, 'oh': 3074, 'please': 3313, 'others': 3121, 'drivel': 1339, 'trouble': 4613, 'typo': 4642, 'feature': 1669, 'first': 1725, 'page': 3166, 'remove': 3670, 'wait': 4815, 'point': 3326, 'beginning': 395, 'clear': 782, 'intentional': 2329, 'prose': 3466, 'purpose': 3499, 'glad': 1922, 'awful': 314, 'beyond': 425, 'belief': 400, 'seem': 3901, 'grader': 1963, 'grammatical': 1968, 'skill': 4040, 'age': 97, 'reviewer': 3723, 'per': 3239, 'chapter': 699, 'example': 1559, 'mention': 2800, 'lean': 2530, 'house': 2173, 'distract': 1272, 'writing': 4961, 'weak': 4850, 'decide': 1101, 'pencil': 3234, 'mark': 2725, 'horrible': 2158, 'relative': 3644, 'faith': 1637, 'try': 4620, 'fake': 1638, 'obvious': 3052, 'glow': 1933, 'person': 3252, 'sentence': 3920, 'structure': 4270, 'romantic': 3767, 'zen': 4994, 'baseball': 349, 'comedy': 834, 'folk': 1770, 'anymore': 194, 'might': 2825, 'talk': 4380, 'cool': 956, 'young': 4990, 'search': 3887, 'stumble': 4277, 'resort': 3701, 'kitchen': 2461, 'gig': 1916, 'motorcycle': 2905, 'maintenance': 2692, 'man': 2702, 'italian': 2374, 'right': 3742, 'team': 4399, 'owner': 3156, 'often': 3073, 'case': 653, 'honest': 2146, 'comical': 841, 'always': 144, 'emotional': 1453, 'interaction': 2331, 'player': 3308, 'mix': 2861, 'special': 4151, 'effect': 1413, 'salsa': 3813, 'big': 428, 'compression': 884, 'stocking': 4238, 'doctor': 1283, 'require': 3691, 'wear': 4853, 'ugly': 4645, 'white': 4882, 'hose': 2165, 'thick': 4467, 'brown': 554, 'need': 2967, 'look': 2635, 'regular': 3636, 'though': 4481, 'blood': 463, 'still': 4231, 'support': 4326, 'leg': 2540, 'nice': 2989, 'problem': 3431, 'top': 4541, 'roll': 3762, 'thigh': 4469, 'hat': 2063, 'skin': 4042, 'inexpensive': 2278, 'belt': 410, 'fine': 1713, 'help': 2097, 'product': 3437, 'however': 2177, 'difficult': 1211, 'old': 3078, 'full': 1846, 'workout': 4942, 'begin': 392, 'create': 1002, 'deep': 1109, 'difficulty': 1212, 'address': 61, 'size': 4034, 'recomended': 3607, 'chart': 709, 'real': 3578, 'small': 4068, 'sheer': 3962, 'item': 2376, 'store': 4243, 'check': 715, 'men': 2796, 'model': 2867, 'may': 2758, 'ok': 3076, 'type': 4639, 'active': 43, 'around': 232, 'alot': 131, 'job': 2413, 'consistently': 918, 'found': 1802, 'ankle': 177, 'solution': 4100, 'standard': 4202, 'stock': 4237, 'stay': 4214, 'pair': 3172, 'tear': 4400, 'struggle': 4271, 'investment': 2357, 'delicious': 1134, 'funny': 1855, 'quickly': 3516, 'package': 3161, 'notice': 3029, 'since': 4016, 'convenience': 945, 'wrap': 4955, 'plastic': 3302, 'log': 2623, 'messy': 2810, 'extremely': 1618, 'sticky': 4229, 'ratio': 3565, 'ingredient': 2288, 'extra': 1614, 'butter': 591, 'really': 3584, 'large': 2500, 'chocolate': 734, 'chip': 733, 'addition': 59, 'flavor': 1740, 'digital': 1214, 'copy': 958, 'rather': 3563, 'scratch': 3872, 'random': 3548, 'combine': 830, 'light': 2571, 'vague': 4740, 'image': 2223, 'resolution': 3698, 'packaging': 3162, 'straight': 4250, 'street': 4259, 'corner': 962, 'bootleg': 492, 'see': 3899, 'reasonably': 3589, 'condition': 897, 'film': 1703, 'define': 1118, 'visuals': 4798, 'crystal': 1031, 'contrast': 938, 'black': 446, 'surround': 4344, 'countryside': 979, 'scene': 3852, 'set': 3935, 'early': 1382, 'morning': 2894, 'ground': 1999, 'memory': 2795, 'event': 1535, 'bridge': 539, 'water': 4844, 'bright': 542, 'dull': 1360, 'dark': 1073, 'cloud': 802, 'captain': 629, 'command': 842, 'hard': 2049, 'award': 309, 'acclaim': 23, 'presentation': 3398, 'youtube': 4992, 'somewhere': 4110, 'dvd': 1371, 'fascinating': 1655, 'insight': 2300, 'modern': 2868, 'japanese': 2390, 'thoroughly': 4479, 'rise': 3746, 'son': 4111, 'daughter': 1080, 'society': 4090, 'view': 4776, 'parent': 3193, 'culture': 1036, 'community': 852, 'western': 4869, 'form': 1788, 'new': 2982, 'japan': 2389, 'international': 2338, 'blend': 456, 'demonstrate': 1145, 'private': 3426, 'member': 2792, 'steven': 4225, 'clearly': 783, 'talented': 4379, 'adopt': 70, 'school': 3859, 'four': 1804, 'thus': 4495, 'able': 3, 'inside': 2299, 'album': 118, 'thought': 4482, 'blue': 467, 'angel': 169, 'hair': 2027, 'singer': 4020, 'talent': 4378, 'charge': 703, 'charger': 704, 'aa': 0, 'battery': 364, 'huge': 2182, 'secure': 3896, 'flip': 1752, 'little': 2610, 'button': 592, 'positive': 3352, 'pop': 3339, 'wo': 4925, 'hold': 2134, 'mechanism': 2775, 'become': 383, 'loose': 2637, 'pressure': 3402, 'push': 3502, 'tape': 4386, 'segment': 3904, 'apply': 214, 'painful': 3168, 'advertised': 80, 'instruction': 2315, 'dont': 1299, 'do': 1281, 'hour': 2172, 'return': 3716, 'useless': 4728, 'backup': 325, 'manage': 2703, 'drain': 1319, 'purchase': 3493, 'convenient': 946, 'last': 2504, 'short': 3983, 'long': 2633, 'dear': 1091, 'excite': 1571, 'muslim': 2933, 'volume': 4806, 'live': 2611, 'essay': 1518, 'among': 156, 'describe': 1159, 'explain': 1598, 'woman': 4928, 'cape': 626, 'town': 4562, 'claim': 766, 'separate': 3922, 'equal': 1505, 'hop': 2152, 'feminist': 1685, 'gender': 1889, 'surprised': 4340, 'female': 1683, 'base': 348, 'christmas': 746, 'present': 3397, 'join': 2417, 'rest': 3708, 'vhs': 4765, 'movie': 2913, 'tv': 4631, 'choice': 735, 'agree': 101, 'awkward': 316, 'selection': 3907, 'option': 3102, 'hang': 2040, 'comment': 843, 'complicated': 875, 'many': 2716, 'remote': 3667, 'rely': 3655, 'heavily': 2088, 'manual': 2712, 'vcr': 4752, 'timer': 4512, 'start': 4208, 'scroll': 3880, 'complaint': 869, 'incorrect': 2262, 'disc': 1238, 'fan': 1645, 'saw': 3837, 'unit': 4685, 'section': 3895, 'happy': 2048, 'click': 787, 'receiver': 3597, 'transition': 4579, 'smooth': 4075, 'pause': 3222, 'fairly': 1635, 'message': 2809, 'nut': 3043, 'television': 4412, 'bookshelf': 489, 'audio': 286, 'system': 4369, 'car': 634, 'move': 2911, 'room': 3771, 'combo': 831, 'except': 1564, 'cable': 600, 'box': 510, 'control': 942, 'input': 2296, 'programming': 3448, 'mono': 2879, 'wife': 4895, 'difference': 1208, 'title': 4523, 'hollywood': 2139, 'ridiculous': 3739, 'wonder': 4929, 'script': 3878, 'mountain': 2908, 'lion': 2594, 'trailer': 4573, 'behind': 398, 'capture': 633, 'jail': 2384, 'cell': 675, 'utterly': 4737, 'completely': 871, 'stupid': 4279, 'bet': 422, 'hotel': 2170, 'incredible': 2264, 'act': 40, 'bbc': 369, 'soap': 4085, 'max': 2756, 'mariah': 2721, 'drama': 1320, 'series': 3928, 'opera': 3090, 'air': 107, 'america': 152, 'episode': 1503, 'season': 3888, 'finale': 1707, 'interesting': 2334, 'remind': 3663, 'reason': 3587, 'fictional': 1690, 'san': 3818, 'francisco': 1812, 'recommend': 3608, 'willing': 4901, 'watch': 4841, 'already': 134, 'law': 2516, 'seriously': 3930, 'unfortunately': 4677, 'entertain': 1490, 'order': 3105, 'hip': 2122, 'daddy': 1059, 'vibe': 4767, 'fourth': 1805, 'class': 772, 'main': 2688, 'playing': 3309, 'voice': 4804, 'party': 3202, 'anywhere': 200, 'neighborhood': 2973, 'laugh': 2510, 'beach': 372, 'grow': 2001, 'surfer': 4336, 'southern': 4137, 'california': 603, 'brother': 553, 'honestly': 2147, 'kinda': 2455, 'surf': 4334, 'hell': 2095, 'moral': 2891, 'aspect': 257, 'american': 153, 'explanation': 1599, 'simple': 4009, 'focus': 1768, 'individual': 2274, 'ignore': 2214, 'personal': 3254, 'public': 3479, 'responsibility': 3706, 'final': 1706, 'response': 3705, 'robert': 3755, 'seller': 3910, 'disgust': 1252, 'state': 4210, 'medium': 2782, 'politics': 3333, 'general': 1890, 'head': 2073, 'substantial': 4290, 'challenge': 692, 'lie': 2566, 'being': 399, 'larry': 2502, 'label': 2478, 'late': 2505, 'explore': 1602, 'rich': 3734, 'catalog': 661, 'jazz': 2397, 'musician': 2930, 'stand': 4201, 'mile': 2830, 'mac': 2672, 'line': 2590, 'windows': 4906, 'frustrating': 1842, 'excited': 1572, 'attempt': 276, 'touch': 4552, 'mouse': 2909, 'arrow': 237, 'keyboard': 2448, 'fun': 1848, 'disapointed': 1231, 'attention': 278, 'level': 2558, 'rescue': 3694, 'hero': 2103, 'dog': 1288, 'former': 1792, 'repeatedly': 3678, 'recipe': 3603, 'throw': 4492, 'cup': 1038, 'nearly': 2962, 'compare': 859, 'ed': 1401, 'wood': 4933, 'flawlessly': 1743, 'lisa': 2598, 'wild': 4897, 'bread': 526, 'novice': 3035, 'place': 3294, 'reliable': 3650, 'concise': 894, 'information': 2285, 'maintain': 2691, 'fabulous': 1623, 'pass': 3204, 'historical': 2126, 'interest': 2332, 'cost': 968, 'alaska': 116, 'visit': 4794, 'starter': 4209, 'collection': 821, 'advise': 84, 'ruth': 3798, 'picture': 3278, 'past': 3209, 'ago': 100, 'mixer': 2863, 'stuff': 4276, 'pot': 3361, 'close': 795, 'download': 1310, 'decade': 1097, 'background': 323, 'russia': 3795, 'hunt': 2192, 'melody': 2790, 'english': 1479, 'lyric': 2669, 'else': 1441, 'via': 4766, 'happily': 2046, 'ipod': 2361, 'experience': 1592, 'fm': 1766, 'rattle': 3566, 'sometimes': 4108, 'quality': 3505, 'screen': 3874, 'thru': 4493, 'middle': 2823, 'plus': 3319, 'dead': 1087, 'layout': 2519, 'sense': 3914, 'engineering': 1477, 'imo': 2231, 'refund': 3630, 'name': 2943, 'hesitant': 2105, 'flat': 1739, 'panel': 3179, 'lcd': 2522, 'build': 572, 'weight': 4864, 'space': 4140, 'save': 3835, 'attractive': 284, 'design': 1165, 'sharp': 3960, 'playback': 3307, 'negative': 2971, 'function': 1849, 'key': 2447, 'due': 1357, 'color': 826, 'almost': 128, 'carefully': 641, 'terrible': 4433, 'birthday': 440, 'fail': 1631, 'junk': 2436, 'capable': 624, 'recall': 3592, 'flash': 1737, 'channel': 697, 'sony': 4115, 'universal': 4687, 'learn': 2532, 'factory': 1627, 'deal': 1089, 'user': 4729, 'annoy': 182, 'replace': 3681, 'tube': 4621, 'gain': 1865, 'counter': 976, 'internal': 2337, 'bonus': 484, 'defective': 1114, 'electronics': 1432, 'express': 1607, 'contact': 926, 'number': 3040, 'pick': 3276, 'arrive': 236, 'week': 4861, 'later': 2507, 'clarity': 770, 'mode': 2866, 'loud': 2646, 'rv': 3799, 'run': 3790, 'barely': 344, 'solve': 4101, 'jack': 2381, 'stereo': 4222, 'speaker': 4147, 'lightweight': 2576, 'antenna': 187, 'opinion': 3094, 'bias': 426, 'angle': 171, 'europe': 1529, 'clean': 780, 'proper': 3461, 'shed': 3961, 'understand': 4666, 'tourist': 4556, 'guide': 2010, 'tour': 4555, 'country': 978, 'reference': 3625, 'travel': 4586, 'outline': 3133, 'detail': 1175, 'disappointment': 1236, 'realy': 3585, 'everybody': 1540, 'combination': 829, 'illustration': 2221, 'text': 4444, 'overall': 3138, 'sight': 3996, 'city': 763, 'european': 1530, 'thank': 4449, 'lonely': 2632, 'planet': 3299, 'info': 2283, 'surface': 4335, 'receive': 3596, 'germany': 1907, 'overview': 3150, 'greece': 1985, 'spanish': 4142, 'sort': 4126, 'printing': 3421, 'highlight': 2114, 'front': 1838, 'course': 982, 'kid': 2450, 'jay': 2396, 'eric': 1511, 'tender': 4426, 'rock': 3757, 'offend': 3066, 'either': 1422, 'depend': 1150, 'foot': 1778, 'accept': 16, 'way': 4848, 'gift': 1914, 'husband': 2197, 'date': 1078, 'disappointing': 1235, 'plate': 3303, 'inferior': 2279, 'previous': 3408, 'edition': 1406, 'ahead': 103, 'homer': 2144, 'helpful': 2098, 'gem': 1888, 'complex': 872, 'subject': 4285, 'second': 3891, 'century': 684, 'religious': 3654, 'authority': 296, 'serious': 3929, 'period': 3249, 'essential': 1520, 'argue': 227, 'yes': 4983, 'library': 2563, 'cardboard': 637, 'beat': 377, 'cheesy': 718, 'across': 39, 'entire': 1495, 'solid': 4097, 'decent': 1100, 'distance': 1268, 'scrap': 3871, 'noticeable': 3030, 'plenty': 3316, 'material': 2750, 'loosely': 2638, 'bottom': 503, 'ship': 3972, 'exchange': 1570, 'damage': 1063, 'risk': 3747, 'unknown': 4690, 'africa': 93, 'produce': 3435, 'mixture': 2864, 'african': 94, 'feeling': 1677, 'soft': 4092, 'fit': 1730, 'record': 3611, 'france': 1810, 'paris': 3194, 'professional': 3440, 'hot': 2169, 'lazy': 2520, 'expectation': 1588, 'shoe': 3979, 'rip': 3745, 'apart': 203, 'sole': 4095, 'clark': 771, 'sadly': 3804, 'within': 4920, 'month': 2885, 'similar': 4006, 'profound': 3444, 'narrative': 2946, 'style': 4282, 'famous': 1644, 'john': 2415, 'frequently': 1826, 'carry': 649, 'tone': 4536, 'amateur': 145, 'historian': 2125, 'neither': 2974, 'boston': 500, 'graduate': 1964, 'consider': 915, 'represent': 3686, 'today': 4524, 'research': 3695, 'thin': 4470, 'conclude': 895, 'essentially': 1521, 'primary': 3414, 'secondary': 3892, 'source': 4135, 'rat': 3561, 'enjoyed': 1484, 'yr': 4993, 'barbie': 341, 'computer': 886, 'worry': 4945, 'vibrant': 4768, 'friendly': 1832, 'mommy': 2874, 'ton': 4535, 'together': 4528, 'decorate': 1105, 'alone': 129, 'creativity': 1005, 'adventure': 78, 'addict': 57, 'opening': 3089, 'sing': 4019, 'non': 3013, 'stop': 4241, 'prince': 3417, 'program': 3446, 'cry': 1030, 'child': 726, 'currently': 1044, 'bedroom': 388, 'result': 3712, 'painting': 3171, 'flower': 1759, 'halfway': 2030, 'exit': 1583, 'freeze': 1823, 'spot': 4183, 'urge': 4719, 'software': 4093, 'reboot': 3591, 'site': 4029, 'frustrate': 1840, 'fault': 1662, 'catch': 663, 'bug': 569, 'buck': 561, 'creative': 1004, 'granddaughter': 1971, 'plan': 3297, 'imagination': 2225, 'fight': 1696, 'choose': 736, 'theme': 4457, 'allow': 125, 'power': 3368, 'stone': 4240, 'animation': 175, 'bore': 494, 'adult': 73, 'variation': 4747, 'scheme': 3856, 'pattern': 3219, 'highly': 2115, 'rental': 3675, 'basically': 353, 'sister': 4027, 'os': 3119, 'classic': 773, 'multiple': 2923, 'access': 18, 'everytime': 1544, 'task': 4388, 'sequence': 3926, 'file': 1700, 'crash': 996, 'possible': 3354, 'grand': 1969, 'patience': 3215, 'survive': 4347, 'trial': 4598, 'substitute': 4291, 'vendor': 4759, 'feedback': 1673, 'rate': 3562, 'bother': 501, 'future': 1858, 'company': 857, 'mistake': 2859, 'hundred': 2190, 'dollar': 1293, 'building': 573, 'careful': 640, 'smell': 4071, 'bottle': 502, 'delicate': 1133, 'summer': 4316, 'impressed': 2241, 'creepy': 1010, 'wow': 4954, 'revenge': 3720, 'door': 1301, 'open': 3087, 'prepare': 3394, 'didnt': 1203, 'menu': 2801, 'exist': 1581, 'matter': 2753, 'exception': 1565, 'dubbing': 1352, 'sub': 4284, 'par': 3184, 'remain': 3656, 'shame': 3956, 'original': 3113, 'offering': 3069, 'sooo': 4118, 'official': 3072, 'production': 3438, 'screw': 3877, 'pioneer': 3287, 'sad': 3803, 'ya': 4971, 'rap': 3554, 'ta': 4370, 'blow': 465, 'jam': 2385, 'ride': 3738, 'underrated': 4665, 'houston': 2175, 'pat': 3211, 'steve': 4224, 'regardless': 3633, 'alive': 123, 'legacy': 2541, 'dirty': 1229, 'south': 4136, 'guest': 2008, 'fat': 1659, 'chris': 741, 'chronicle': 748, 'farm': 1653, 'photo': 3268, 'version': 4763, 'bill': 430, 'history': 2128, 'relationship': 3643, 'loved': 2652, 'treasure': 4590, 'keeper': 2444, 'draw': 1323, 'idea': 2205, 'comfy': 839, 'lounge': 2648, 'cake': 602, 'topper': 4543, 'june': 2433, 'estimate': 1525, 'shipping': 3974, 'july': 2431, 'wrong': 4962, 'pearl': 3228, 'kit': 2460, 'cute': 1052, 'provide': 3473, 'annoyed': 183, 'include': 2254, 'trust': 4618, 'additional': 60, 'sweet': 4358, 'grace': 1961, 'email': 1445, 'supply': 4325, 'list': 2599, 'sheet': 3963, 'ready': 3577, 'none': 3014, 'boot': 491, 'phone': 3267, 'manufacturer': 2714, 'unreliable': 4700, 'critic': 1017, 'consumer': 925, 'alike': 122, 'release': 3647, 'debut': 1096, 'radio': 3535, 'hit': 2129, 'dj': 1280, 'band': 337, 'hopefully': 2155, 'club': 803, 'sale': 3812, 'practically': 3372, 'leap': 2531, 'grab': 1960, 'neck': 2966, 'upcoming': 4707, 'omg': 3080, 'own': 3155, 'saturday': 3834, 'cause': 668, 'classical': 774, 'jason': 2392, 'lead': 2524, 'moment': 2873, 'relief': 3651, 'minimum': 2842, 'achieve': 33, 'suggest': 4309, 'skip': 4044, 'finally': 1708, 'horribly': 2159, 'lack': 2482, 'mystery': 2937, 'ten': 4424, 'educational': 1410, 'train': 4574, 'shape': 3957, 'guarantee': 2004, 'puzzle': 3504, 'range': 3550, 'silly': 4004, 'odd': 3060, 'theory': 4459, 'concert': 893, 'string': 4265, 'appreciate': 215, 'excelent': 1560, 'rendition': 3672, 'caution': 669, 'remastered': 3661, 'irrelevant': 2368, 'textbook': 4445, 'transaction': 4576, 'engage': 1473, 'te': 4394, 'wash': 4834, 'shore': 3982, 'colin': 817, 'tess': 4441, 'opposite': 3097, 'attract': 282, 'call': 604, 'trashy': 4585, 'usually': 4733, 'tie': 4499, 'blond': 462, 'enchant': 1464, 'heroine': 2104, 'part': 3196, 'content': 930, 'island': 2371, 'solitude': 4098, 'shake': 3951, 'fear': 1667, 'strange': 4253, 'strike': 4264, 'friendship': 1833, 'courage': 981, 'amusing': 160, 'mostly': 2897, 'characterization': 702, 'character': 700, 'introduce': 2349, 'behavior': 397, 'development': 1183, 'force': 1781, 'improve': 2244, 'towards': 4559, 'portable': 3345, 'drive': 1338, 'disappoint': 1233, 'performance': 3246, 'constantly': 921, 'half': 2029, 'uncomfortable': 4661, 'pant': 3180, 'incredibly': 2265, 'stiff': 4230, 'authentic': 294, 'encounter': 1465, 'yoruba': 4989, 'particular': 3198, 'certain': 686, 'nuance': 3037, 'speak': 4146, 'anybody': 193, 'clue': 804, 'question': 3513, 'unanswered': 4656, 'note': 3027, 'impossible': 2239, 'native': 2953, 'confuse': 906, 'teach': 4396, 'basic': 352, 'vocabulary': 4802, 'specific': 4155, 'vehicle': 4755, 'correct': 966, 'mat': 2748, 'duplicate': 1366, 'therefore': 4463, 'sit': 4028, 'grandchild': 1970, 'value': 4743, 'toe': 4526, 'kelly': 2445, 'pet': 3258, 'parade': 3187, 'dress': 1332, 'pony': 3335, 'jump': 2432, 'etc': 1527, 'animal': 173, 'nail': 2942, 'float': 1753, 'accomplish': 25, 'along': 130, 'wonderfully': 4931, 'instal': 2307, 'laptop': 2498, 'tough': 4554, 'bear': 375, 'fish': 1726, 'finger': 1714, 'pad': 3163, 'load': 2617, 'different': 1209, 'endless': 1469, 'graphic': 1976, 'colorful': 827, 'winner': 4909, 'reinstall': 3639, 'issue': 2373, 'activity': 44, 'slip': 4062, 'heel': 2091, 'satisfy': 3832, 'manner': 2709, 'awesome': 313, 'advertisement': 81, 'uk': 4646, 'assume': 265, 'available': 301, 'england': 1478, 'arcade': 221, 'ive': 2379, 'guy': 2019, 'compatible': 863, 'machine': 2674, 'deeply': 1110, 'stage': 4196, 'revolution': 3725, 'equivalent': 1509, 'unheard': 4679, 'favourite': 1666, 'situation': 4030, 'lucky': 2662, 'letter': 2557, 'admit': 68, 'michael': 2818, 'montgomery': 2884, 'approach': 217, 'couple': 980, 'beer': 390, 'devil': 1185, 'spice': 4166, 'deserve': 1164, 'cuz': 1054, 'soldier': 4094, 'punk': 3491, 'hr': 2179, 'ball': 330, 'este': 1524, 'libro': 2564, 'lo': 2616, 'que': 3509, 'el': 1424, 'si': 3993, 'de': 1086, 'con': 887, 'mi': 2817, 'ex': 1553, 'cereal': 685, 'hook': 2150, 'eat': 1393, 'especially': 1517, 'taste': 4389, 'hungry': 2191, 'bunch': 580, 'cap': 623, 'splendid': 4177, 'fill': 1701, 'word': 4935, 'warning': 4831, 'local': 2618, 'walmart': 4819, 'church': 752, 'bowl': 509, 'timber': 4508, 'frame': 1809, 'technical': 4402, 'joint': 2418, 'span': 4141, 'mill': 2833, 'museum': 2927, 'master': 2744, 'recent': 3598, 'trip': 4607, 'avid': 305, 'breeze': 535, 'various': 4749, 'illustrate': 2220, 'fascinate': 1654, 'practical': 3371, 'outstanding': 3137, 'although': 140, 'construction': 923, 'invaluable': 2352, 'process': 3434, 'editing': 1405, 'spell': 4163, 'caption': 630, 'traditional': 4569, 'print': 3419, 'drawing': 1325, 'inform': 2284, 'project': 3451, 'internet': 2339, 'dip': 1221, 'temperature': 4418, 'shrink': 3991, 'egg': 1417, 'transfer': 4577, 'needless': 2969, 'intelligent': 2324, 'immediately': 2229, 'property': 3463, 'explicit': 1600, 'war': 4824, 'coast': 806, 'pc': 3224, 'sink': 4025, 'meant': 2770, 'race': 3528, 'battlefield': 366, 'landscape': 2492, 'slide': 4058, 'total': 4548, 'rubbish': 3784, 'mine': 2839, 'ireland': 2363, 'florida': 1757, 'costly': 969, 'henry': 2101, 'nose': 3025, 'chew': 722, 'nobody': 3008, 'worn': 4944, 'clone': 794, 'forty': 1799, 'dad': 1058, 'ill': 2217, 'significance': 4000, 'battle': 365, 'obsession': 3050, 'replacement': 3682, 'safely': 3807, 'closet': 798, 'shelf': 3964, 'thread': 4486, 'bare': 343, 'online': 3083, 'overwhelm': 3151, 'less': 2553, 'thanks': 4452, 'disney': 1260, 'toy': 4564, 'six': 4031, 'contemporary': 929, 'delight': 1135, 'snow': 4082, 'ups': 4714, 'reward': 3727, 'forward': 1801, 'detailed': 1176, 'sketch': 4039, 'excitement': 1573, 'actual': 47, 'complicate': 874, 'beginner': 394, 'thrill': 4488, 'instructional': 2316, 'match': 2749, 'cushion': 1048, 'description': 1161, 'deliver': 1137, 'impression': 2242, 'insert': 2298, 'attach': 274, 'strap': 4256, 'definately': 1117, 'luckily': 2661, 'policy': 3329, 'free': 1821, 'sex': 3944, 'publish': 3481, 'broadway': 550, 'theatre': 4455, 'archive': 223, 'witty': 4924, 'ruin': 3787, 'costume': 970, 'absurd': 10, 'blanket': 452, 'acting': 41, 'btw': 559, 'director': 1227, 'appear': 209, 'goal': 1939, 'intention': 2328, 'recording': 3612, 'extended': 1610, 'drinking': 1336, 'blurry': 472, 'audience': 285, 'charm': 707, 'chance': 694, 'student': 4273, 'compilation': 867, 'perform': 3245, 'artist': 243, 'poorly': 3338, 'wave': 4847, 'prior': 3422, 'imply': 2234, 'garbage': 1875, 'prompt': 3455, 'november': 3034, 'nowhere': 3036, 'deceive': 1098, 'group': 2000, 'duh': 1358, 'trash': 4584, 'purist': 3496, 'reception': 3600, 'session': 3934, 'sounding': 4132, 'cheap': 712, 'die': 1204, 'camera': 608, 'continue': 933, 'included': 2255, 'tech': 4401, 'mr': 2915, 'curious': 1042, 'producer': 3436, 'realize': 3583, 'reveal': 3718, 'crucial': 1026, 'unbelievable': 4658, 'earlier': 1381, 'detective': 1178, 'attorney': 281, 'unfold': 4674, 'abuse': 11, 'childhood': 728, 'forgive': 1787, 'successful': 4297, 'spite': 4176, 'horrendous': 2157, 'lord': 2639, 'refer': 3624, 'peter': 3259, 'major': 2694, 'league': 2528, 'score': 3868, 'extensive': 1612, 'resource': 3702, 'tomorrow': 4534, 'till': 4505, 'massive': 2743, 'living': 2613, 'subscription': 4286, 'coverage': 987, 'minor': 2845, 'college': 823, 'brand': 522, 'steer': 4218, 'secret': 3893, 'joe': 2414, 'al': 113, 'intriguing': 2347, 'influence': 2281, 'titan': 4521, 'exploration': 1601, 'jet': 2407, 'craft': 991, 'fuel': 1845, 'atmosphere': 272, 'originally': 3115, 'intrigue': 2346, 'father': 1661, 'mission': 2858, 'reality': 3582, 'fantasy': 1649, 'david': 1082, 'asimov': 254, 'peek': 3230, 'block': 460, 'obviously': 3053, 'fails': 1632, 'noise': 3010, 'incorporate': 2261, 'easily': 1389, 'identify': 2208, 'banana': 336, 'penguin': 3235, 'wall': 4818, 'smash': 4070, 'drop': 1341, 'tolerate': 4529, 'treatment': 4592, 'art': 238, 'collector': 822, 'twin': 4635, 'learning': 2533, 'tool': 4539, 'fisher': 1727, 'spin': 4170, 'queen': 3510, 'stack': 4195, 'knock': 2466, 'bang': 338, 'plain': 3296, 'wooden': 4934, 'object': 3045, 'opportunity': 3095, 'eye': 1620, 'rub': 3782, 'dissapointing': 1265, 'concept': 890, 'baby': 320, 'mother': 2898, 'imaginative': 2226, 'edge': 1403, 'safety': 3808, 'grandson': 1974, 'goodness': 1949, 'interested': 2333, 'manipulate': 2707, 'adorable': 71, 'upgrade': 4710, 'format': 1790, 'storage': 4242, 'durable': 1368, 'perfectly': 3244, 'hurt': 2196, 'category': 665, 'factor': 1626, 'fully': 1847, 'comprehend': 881, 'broke': 551, 'waterproof': 4845, 'whale': 4871, 'mary': 2738, 'study': 4275, 'communication': 849, 'washington': 4837, 'direct': 1223, 'nifty': 2996, 'halloween': 2032, 'dummy': 1363, 'nevertheless': 2981, 'depict': 1151, 'liked': 2579, 'certainly': 687, 'campaign': 611, 'academic': 13, 'organization': 3110, 'dedicate': 1108, 'propaganda': 3460, 'office': 3070, 'regularly': 3637, 'hide': 2111, 'terrorist': 4439, 'weapon': 4852, 'violence': 4785, 'intend': 2325, 'innocent': 2294, 'murder': 2925, 'extreme': 1617, 'formula': 1793, 'fortunately': 1797, 'hesitate': 2106, 'chinese': 732, 'green': 1987, 'red': 3616, 'logo': 2627, 'fx': 1862, 'serial': 3927, 'handful': 2037, 'memorable': 2794, 'seal': 3884, 'wing': 4908, 'blame': 449, 'self': 3908, 'sorry': 4125, 'travesty': 4588, 'killer': 2452, 'supernatural': 4322, 'storyline': 4247, 'hole': 2136, 'gory': 1955, 'confusing': 908, 'stephen': 4221, 'initially': 2290, 'indie': 2273, 'horror': 2163, 'flick': 1748, 'jennifer': 2402, 'weekend': 4862, 'bernie': 418, 'terry': 4440, 'actor': 45, 'lol': 2628, 'anyways': 199, 'mask': 2739, 'maker': 2697, 'suspense': 4349, 'display': 1261, 'effort': 1416, 'dialogue': 1195, 'tree': 4593, 'root': 3772, 'yard': 4973, 'knee': 2462, 'cinematic': 756, 'path': 3213, 'typically': 4641, 'predictable': 3383, 'fashion': 1656, 'victim': 4773, 'face': 1624, 'motivation': 2903, 'entry': 1499, 'familiar': 1642, 'cast': 656, 'effective': 1414, 'treat': 4591, 'williams': 4900, 'role': 3761, 'lee': 2538, 'doom': 1300, 'equally': 1506, 'ii': 2215, 'filmmaker': 1704, 'borrow': 498, 'everyone': 1542, 'elevate': 1435, 'unimaginative': 4680, 'exactly': 1555, 'fright': 1834, 'safe': 3806, 'boring': 497, 'brief': 540, 'appearance': 210, 'icon': 2204, 'ghetto': 1909, 'artifact': 241, 'card': 636, 'yellow': 4980, 'ordinary': 3107, 'holocaust': 2141, 'diary': 1199, 'extract': 1615, 'di': 1189, 'eastern': 1391, 'medicine': 2779, 'dissappointed': 1267, 'unhappy': 4678, 'practice': 3373, 'primer': 3416, 'basis': 354, 'application': 213, 'philosophy': 3266, 'emphasize': 1459, 'natural': 2954, 'balance': 329, 'nature': 2956, 'informative': 2286, 'redundant': 3622, 'combat': 828, 'pleasure': 3315, 'respect': 3703, 'ambient': 151, 'enthusiast': 1494, 'whatsoever': 4874, 'darn': 1076, 'guitarist': 2016, 'utopia': 4734, 'dissapointed': 1264, 'direction': 1225, 'dry': 1347, 'pillow': 3282, 'advertise': 79, 'post': 3356, 'tiny': 4516, 'foam': 1767, 'worthless': 4949, 'amount': 157, 'whatever': 4872, 'super': 4318, 'handle': 2038, 'heavy': 2089, 'dense': 1146, 'cant': 621, 'prop': 3459, 'sleep': 4053, 'otherwise': 3122, 'position': 3351, 'width': 4893, 'rotate': 3775, 'lay': 2517, 'false': 1640, 'military': 2831, 'pic': 3275, 'reply': 3684, 'serum': 3931, 'tend': 4425, 'rid': 3737, 'weather': 4854, 'somehow': 4104, 'double': 1304, 'ai': 104, 'fix': 1734, 'slightly': 4060, 'shop': 3981, 'grocery': 1996, 'dick': 1200, 'provoking': 3476, 'winter': 4911, 'genre': 1898, 'suit': 4312, 'advanced': 76, 'powerful': 3370, 'prefer': 3385, 'outfit': 3130, 'skate': 4036, 'automatically': 299, 'hello': 2096, 'technique': 4404, 'body': 476, 'split': 4178, 'muscle': 2926, 'kick': 2449, 'crook': 1023, 'worthwhile': 4950, 'stink': 4234, 'scream': 3873, 'ice': 2203, 'simplistic': 4012, 'strive': 4267, 'onto': 3084, 'enjoyment': 1485, 'low': 2656, 'dud': 1355, 'somebody': 4102, 'thats': 4453, 'sake': 3811, 'sparkle': 4145, 'seven': 3939, 'window': 4905, 'xp': 4969, 'avoid': 306, 'frustration': 1843, 'crowd': 1025, 'despite': 1171, 'trick': 4601, 'yesterday': 4984, 'confidence': 900, 'smoothly': 4076, 'gentleman': 1900, 'la': 2476, 'rating': 3564, 'pity': 3293, 'delivery': 1139, 'mail': 2687, 'joy': 2424, 'rare': 3557, 'dose': 1302, 'fire': 1718, 'truck': 4614, 'pleased': 3314, 'horse': 2164, 'imagery': 2224, 'newspaper': 2986, 'afternoon': 95, 'supplier': 4324, 'nasty': 2949, 'apartment': 204, 'switch': 4361, 'outlet': 3132, 'eight': 1421, 'plug': 3318, 'saver': 3836, 'device': 1184, 'hitch': 2130, 'mystical': 2938, 'relax': 3646, 'dr': 1315, 'legend': 2543, 'stranger': 4255, 'dream': 1329, 'surreal': 4343, 'symbolism': 4364, 'someday': 4103, 'peace': 3226, 'shin': 3970, 'land': 2491, 'charming': 708, 'captivate': 631, 'lj': 2614, 'smith': 4073, 'ash': 249, 'teenage': 4409, 'humor': 2187, 'paranormal': 3192, 'disaster': 1237, 'area': 224, 'darkness': 1075, 'hooked': 2151, 'protect': 3469, 'happiness': 2047, 'possibly': 3355, 'instantly': 2313, 'amaze': 147, 'inspire': 2305, 'poetry': 3324, 'respond': 3704, 'personality': 3255, 'vampire': 4745, 'vision': 4793, 'trilogy': 4604, 'recognize': 3605, 'soulmate': 4130, 'unrealistic': 4699, 'slayer': 4052, 'tune': 4624, 'male': 2700, 'attraction': 283, 'witch': 4919, 'instance': 2311, 'burning': 584, 'legendary': 2544, 'publishing': 3483, 'gel': 1887, 'pen': 3233, 'ink': 2292, 'bleed': 455, 'square': 4189, 'locate': 2620, 'left': 2539, 'magazine': 2680, 'publication': 3480, 'mirror': 2850, 'glimpse': 1927, 'nation': 2951, 'shortly': 3984, 'scholar': 3857, 'compelling': 865, 'illuminate': 2219, 'precious': 3379, 'examine': 1558, 'evolution': 1551, 'conclusion': 896, 'vast': 4751, 'data': 1077, 'readable': 3573, 'reflection': 3628, 'professor': 3441, 'regret': 3635, 'wade': 4813, 'likely': 2580, 'wealth': 4851, 'awake': 308, 'invest': 2355, 'somewhat': 4109, 'useful': 4727, 'richard': 3735, 'convincing': 951, 'wide': 4890, 'perspective': 3257, 'kylie': 2475, 'bite': 443, 'subtlety': 4294, 'subtle': 4293, 'performer': 3247, 'ballad': 331, 'nightmare': 2998, 'flow': 1758, 'catchy': 664, 'chorus': 740, 'melt': 2791, 'funky': 1854, 'language': 2494, 'usa': 4721, 'import': 2235, 'limit': 2585, 'border': 493, 'edit': 1404, 'cut': 1051, 'arrangement': 234, 'rarity': 3559, 'tom': 4530, 'remix': 3666, 'dub': 1350, 'cord': 960, 'annoying': 184, 'thomas': 4477, 'naturally': 2955, 'compel': 864, 'relate': 3641, 'rambling': 3545, 'involve': 2359, 'mindless': 2838, 'footage': 1779, 'meet': 2783, 'rent': 3674, 'kay': 2441, 'aside': 253, 'gear': 1885, 'toward': 4558, 'pack': 3160, 'interview': 2343, 'normal': 3021, 'solely': 4096, 'center': 682, 'commercial': 845, 'introduction': 2350, 'pain': 3167, 'frustrated': 1841, 'advice': 83, 'asleep': 256, 'horrific': 2161, 'warrior': 4833, 'brilliantly': 544, 'gore': 1953, 'fanatic': 1646, 'warranty': 4832, 'equipment': 1508, 'printer': 3420, 'strip': 4266, 'stretch': 4262, 'waist': 4814, 'tight': 4500, 'inch': 2252, 'earn': 1383, 'comfortable': 836, 'largely': 2501, 'slack': 4046, 'usual': 4732, 'normally': 3022, 'flimsy': 1750, 'fabric': 1622, 'advertising': 82, 'coffee': 813, 'gray': 1980, 'misleading': 2854, 'skinny': 4043, 'business': 587, 'chain': 690, 'iron': 2365, 'emphasis': 1458, 'mature': 2755, 'disturbing': 1274, 'render': 3671, 'fairy': 1636, 'tale': 4377, 'grim': 1990, 'wwii': 4965, 'glove': 1932, 'appropriate': 218, 'valuable': 4742, 'alternative': 139, 'italy': 2375, 'youth': 4991, 'confusion': 909, 'credibility': 1007, 'rome': 3768, 'appreciation': 216, 'depth': 1157, 'dish': 1253, 'satisfying': 3833, 'flight': 1749, 'food': 1776, 'used': 4726, 'relatively': 3645, 'detract': 1181, 'laura': 2515, 'enhance': 1481, 'overdone': 3140, 'pun': 3488, 'sensual': 3918, 'glory': 1931, 'soul': 4127, 'preparation': 3393, 'discover': 1244, 'mexican': 2816, 'magic': 2682, 'fable': 1621, 'medieval': 2780, 'cook': 952, 'nude': 3038, 'chick': 724, 'lit': 2606, 'roman': 3765, 'cooking': 955, 'market': 2726, 'porn': 3343, 'desire': 1166, 'bath': 361, 'tip': 4517, 'insult': 2320, 'everywhere': 1545, 'vivid': 4801, 'jerk': 2404, 'portray': 3348, 'substance': 4288, 'sexy': 3946, 'metaphor': 2813, 'adequate': 62, 'occasionally': 3056, 'overlook': 3142, 'plane': 3298, 'suppose': 4327, 'generally': 1891, 'management': 2704, 'heap': 2080, 'report': 3685, 'bos': 499, 'financial': 1710, 'analysis': 163, 'ability': 2, 'topic': 4542, 'ordered': 3106, 'elsewhere': 1442, 'cash': 654, 'tha': 4448, 'existence': 1582, 'permanently': 3251, 'repetitive': 3680, 'repeat': 3677, 'huh': 2183, 'yeah': 4976, 'sign': 3998, 'passing': 3206, 'gon': 1945, 'na': 2941, 'lil': 2581, 'alright': 135, 'rapper': 3556, 'million': 2835, 'juvenile': 2439, 'fade': 1629, 'suck': 4299, 'bounce': 505, 'as': 247, 'da': 1057, 'solo': 4099, 'quit': 3521, 'comedian': 833, 'wayne': 4849, 'besides': 420, 'alien': 121, 'degreez': 1129, 'listening': 2603, 'snoop': 4081, 'dictionary': 1202, 'wack': 4812, 'belive': 404, 'wit': 4918, 'crap': 994, 'pointless': 3327, 'definetely': 1119, 'strong': 4268, 'dig': 1213, 'bump': 579, 'em': 1444, 'ha': 2022, 'shot': 3985, 'logic': 2625, 'longer': 2634, 'raise': 3541, 'responsible': 3707, 'co': 805, 'worker': 4939, 'restaurant': 3709, 'french': 1824, 'quarter': 3507, 'orleans': 3116, 'delightful': 1136, 'miller': 2834, 'gently': 1901, 'unlimited': 4694, 'sun': 4317, 'brave': 524, 'tim': 4507, 'dinner': 1219, 'wheel': 4875, 'lesson': 2554, 'desktop': 1168, 'thorough': 4478, 'comprehensive': 882, 'html': 2180, 'web': 4856, 'smart': 4069, 'index': 2268, 'clever': 784, 'expand': 1585, 'technology': 4406, 'intermediate': 2336, 'experienced': 1593, 'website': 4858, 'client': 788, 'expert': 1596, 'buying': 595, 'correctly': 967, 'arrival': 235, 'indicate': 2271, 'healthy': 2079, 'thoughtful': 4483, 'fiction': 1689, 'identity': 2209, 'bond': 481, 'evoke': 1550, 'provoke': 3475, 'cultural': 1035, 'australia': 292, 'complain': 868, 'portrayal': 3349, 'cartridge': 652, 'throat': 4490, 'spray': 4185, 'hurry': 2195, 'relieve': 3652, 'yo': 4986, 'sore': 4122, 'recommendation': 3609, 'mom': 2872, 'decision': 1102, 'glider': 1926, 'sooner': 4117, 'bench': 413, 'metal': 2811, 'unsure': 4702, 'tighten': 4501, 'wasnt': 4838, 'bar': 340, 'assemble': 260, 'movement': 2912, 'blah': 448, 'compliment': 876, 'chair': 691, 'arm': 230, 'shipment': 3973, 'heck': 2090, 'sturdy': 4281, 'drag': 1317, 'wet': 4870, 'thinking': 4474, 'james': 2386, 'moody': 2888, 'awsome': 317, 'sample': 3816, 'ear': 1377, 'iv': 2378, 'rush': 3793, 'eerie': 1412, 'itunes': 2377, 'understanding': 4668, 'generation': 1893, 'united': 4686, 'interpret': 2340, 'jewish': 2409, 'worthy': 4951, 'rabbi': 3526, 'element': 1433, 'truth': 4619, 'gospel': 1956, 'socialism': 4089, 'economics': 1399, 'broad': 548, 'variety': 4748, 'political': 3331, 'meandering': 2766, 'aesthetic': 87, 'marriage': 2731, 'prejudice': 3389, 'marry': 2733, 'welcome': 4866, 'spouse': 4184, 'consist': 916, 'excessive': 1569, 'argument': 228, 'watchable': 4842, 'married': 2732, 'cat': 660, 'angry': 172, 'yell': 4978, 'length': 2548, 'endure': 1470, 'test': 4442, 'discussion': 1247, 'discuss': 1246, 'outside': 3136, 'literature': 2609, 'chop': 737, 'answer': 186, 'excuse': 1575, 'kindle': 2456, 'wolverine': 4927, 'cheer': 716, 'bye': 597, 'bind': 434, 'bass': 357, 'attitude': 280, 'singing': 4021, 'drum': 1344, 'unique': 4684, 'suggestion': 4310, 'acoustic': 37, 'accord': 27, 'knowledge': 2469, 'duo': 1365, 'instrumental': 2319, 'road': 3753, 'mini': 2840, 'cheaply': 713, 'terrific': 4435, 'organ': 3108, 'mess': 2808, 'setting': 3936, 'burnt': 585, 'rubber': 3783, 'service': 3933, 'pace': 3158, 'rivet': 3752, 'bookstore': 490, 'gothic': 1958, 'curse': 1045, 'supposedly': 4328, 'impressive': 2243, 'feehan': 1675, 'warn': 4828, 'christine': 745, 'engine': 1475, 'nicoletta': 2994, 'village': 4780, 'exercise': 1579, 'select': 3906, 'mysterious': 2936, 'frighten': 1835, 'communicate': 848, 'similarity': 4007, 'eager': 1375, 'presence': 3396, 'unlike': 4692, 'temper': 4417, 'passion': 3207, 'empathy': 1456, 'potential': 3362, 'develop': 1182, 'spark': 4144, 'action': 42, 'suspenseful': 4350, 'believable': 401, 'pound': 3364, 'emma': 1451, 'holly': 2138, 'reach': 3570, 'dimensional': 1217, 'advantage': 77, 'success': 4296, 'begining': 393, 'bound': 506, 'weird': 4865, 'lively': 2612, 'adore': 72, 'strongly': 4269, 'tea': 4395, 'severely': 3942, 'camcorder': 607, 'usb': 4724, 'overseas': 3148, 'choppy': 738, 'recently': 3599, 'driver': 1340, 'protection': 3470, 'accurate': 30, 'blur': 470, 'barrel': 347, 'distortion': 1271, 'piano': 3274, 'common': 847, 'teacher': 4397, 'lid': 2565, 'accidentally': 22, 'upon': 4712, 'alternate': 138, 'adjust': 64, 'limited': 2587, 'cruel': 1028, 'unusual': 4704, 'patricia': 3217, 'cornwell': 963, 'boyfriend': 514, 'seat': 3889, 'collapse': 818, 'stick': 4227, 'thriller': 4489, 'evil': 1548, 'holder': 2135, 'nazi': 2958, 'criminal': 1013, 'dump': 1364, 'scarpetta': 3849, 'summary': 4315, 'virtually': 4790, 'paramount': 3190, 'harris': 2059, 'becomes': 384, 'trite': 4610, 'frankly': 1816, 'turner': 4627, 'grip': 1993, 'unable': 4654, 'lost': 2644, 'cassette': 655, 'envelope': 1500, 'prevent': 3406, 'forensic': 1784, 'police': 3328, 'row': 3781, 'execute': 1576, 'current': 1043, 'particularly': 3199, 'niece': 2995, 'installment': 2310, 'potter': 3363, 'field': 1692, 'mastery': 2747, 'science': 3862, 'muddle': 2920, 'electric': 1428, 'flesh': 1746, 'commit': 846, 'redeem': 3617, 'latter': 2509, 'villain': 4781, 'bed': 386, 'hardcover': 2052, 'prime': 3415, 'shallow': 3955, 'contain': 927, 'widely': 4891, 'incomplete': 2258, 'binding': 435, 'documentation': 1286, 'unclear': 4660, 'adam': 50, 'partner': 3200, 'earth': 1386, 'previously': 3409, 'entertaining': 1491, 'spoil': 4179, 'degrade': 1127, 'zero': 4995, 'nope': 3020, 'studio': 4274, 'wake': 4816, 'sandler': 3822, 'viewer': 4777, 'climax': 790, 'lackluster': 2485, 'entirely': 1496, 'walk': 4817, 'happend': 2043, 'hill': 2120, 'engaging': 1474, 'comic': 840, 'illness': 2218, 'destroy': 1173, 'lifestyle': 2568, 'necessarily': 2964, 'doesnt': 1287, 'george': 1904, 'experimental': 1595, 'drug': 1343, 'ira': 2362, 'hire': 2123, 'patch': 3212, 'suddenly': 4303, 'immature': 2228, 'lame': 2490, 'sexual': 3945, 'nudity': 3039, 'reputation': 3689, 'dramatic': 1321, 'cold': 815, 'mainstream': 2690, 'press': 3401, 'downhill': 1309, 'jim': 2410, 'moon': 2889, 'drift': 1333, 'marketing': 2727, 'theater': 4454, 'chuckle': 750, 'making': 2699, 'unnecessary': 4696, 'chemistry': 720, 'conversation': 947, 'acceptable': 17, 'anger': 170, 'hilarious': 2118, 'humour': 2189, 'artsy': 245, 'demand': 1143, 'loser': 2642, 'bird': 438, 'titanic': 4522, 'drawn': 1326, 'profanity': 3439, 'beneath': 415, 'fair': 1634, 'share': 3959, 'appeal': 208, 'vulgar': 4811, 'offensive': 3067, 'likeable': 2578, 'lower': 2657, 'swear': 4354, 'grass': 1978, 'altogether': 142, 'tragic': 4571, 'scott': 3870, 'wont': 4932, 'collect': 820, 'depress': 1153, 'tackle': 4372, 'moron': 2895, 'smile': 4072, 'mel': 2787, 'there': 4462, 'hearing': 2083, 'isnt': 2372, 'win': 4903, 'spent': 4165, 'thankful': 4450, 'excess': 1568, 'inspirational': 2304, 'anecdote': 168, 'north': 3023, 'thirty': 4476, 'phrase': 3271, 'stitch': 4236, 'vital': 4799, 'artwork': 246, 'feast': 1668, 'dynamic': 1373, 'accompany': 24, 'wan': 4820, 'exotic': 1584, 'whimsical': 4880, 'lovely': 2653, 'host': 2167, 'protagonist': 3468, 'narrator': 2947, 'greek': 1986, 'lengthy': 2549, 'richly': 3736, 'diverse': 1276, 'seek': 3900, 'preserve': 3399, 'tradition': 4568, 'interact': 2330, 'social': 4088, 'environment': 1501, 'delve': 1142, 'sin': 4015, 'whenever': 4876, 'habit': 2023, 'judge': 2426, 'forever': 1785, 'account': 28, 'pagan': 3165, 'religion': 3653, 'stereotypical': 4223, 'suitable': 4313, 'disrespect': 1263, 'witness': 4923, 'jean': 2399, 'president': 3400, 'article': 240, 'lady': 2486, 'http': 2181, 'location': 2621, 'conspiracy': 919, 'government': 1959, 'statement': 4211, 'tap': 4385, 'nonsense': 3018, 'department': 1149, 'mad': 2676, 'ramblings': 3546, 'sum': 4314, 'physically': 3273, 'defy': 1126, 'debunk': 1095, 'furthermore': 1856, 'mixed': 2862, 'insane': 2297, 'evidence': 1546, 'pas': 3203, 'sword': 4362, 'december': 1099, 'recieved': 3602, 'absolutly': 8, 'confident': 901, 'steel': 4217, 'buddy': 565, 'symbol': 4363, 'blade': 447, 'fraud': 1818, 'adaptation': 52, 'gibberish': 1912, 'convert': 948, 'laundry': 2514, 'curve': 1047, 'cologne': 825, 'bought': 504, 'update': 4708, 'customer': 1050, 'gap': 1873, 'heaven': 2087, 'scent': 3854, 'crush': 1029, 'nicely': 2990, 'slap': 4048, 'method': 2815, 'possibility': 3353, 'gault': 1881, 'uncle': 4659, 'investigation': 2356, 'york': 4988, 'affair': 88, 'honesty': 2148, 'adjective': 63, 'apparent': 206, 'suffer': 4305, 'tripe': 4608, 'implausible': 2233, 'understandable': 4667, 'brain': 519, 'sixth': 4032, 'labor': 2480, 'bizarre': 445, 'gut': 2018, 'factual': 1628, 'integrity': 2321, 'pale': 3175, 'ignorant': 2213, 'regard': 3632, 'profile': 3442, 'thumb': 4494, 'pit': 3289, 'meaningless': 2769, 'sympathetic': 4365, 'conflict': 903, 'pile': 3280, 'remainder': 3657, 'table': 4371, 'inconsistent': 2260, 'scary': 3850, 'emotionally': 1454, 'contrive': 941, 'temple': 4419, 'intelligence': 2323, 'medical': 2777, 'virginia': 4789, 'whose': 4886, 'frozen': 1839, 'central': 683, 'park': 3195, 'terrify': 4436, 'accuracy': 29, 'lacking': 2484, 'storyteller': 4248, 'fireplace': 1721, 'yank': 4972, 'doc': 1282, 'involved': 2360, 'genius': 1897, 'engineer': 1476, 'stilted': 4232, 'oil': 3075, 'ring': 3744, 'churn': 753, 'profit': 3443, 'terror': 4438, 'killing': 2453, 'bluegrass': 468, 'prove': 3472, 'progress': 3449, 'diagnose': 1192, 'heal': 2077, 'thousand': 4484, 'grant': 1975, 'retain': 3715, 'noisy': 3011, 'vibration': 4770, 'massager': 2742, 'objective': 3046, 'finding': 1712, 'grasp': 1977, 'advance': 75, 'exposition': 1605, 'principle': 3418, 'exciting': 1574, 'desert': 1163, 'afraid': 92, 'hey': 2108, 'bitter': 444, 'friday': 1830, 'knowledgeable': 2470, 'bank': 339, 'civilization': 765, 'ramble': 3544, 'hunter': 2193, 'port': 3344, 'ark': 229, 'giant': 1911, 'map': 2717, 'disappear': 1232, 'superficial': 4320, 'scientific': 3863, 'lincoln': 2589, 'perception': 3241, 'belongs': 409, 'hazlitt': 2070, 'understood': 4669, 'economic': 1398, 'intervention': 2342, 'working': 4940, 'vote': 4809, 'economy': 1400, 'capitalism': 627, 'merit': 2806, 'significantly': 4002, 'ideal': 2206, 'dismal': 1258, 'serve': 3932, 'third': 4475, 'swing': 4360, 'conservative': 914, 'rant': 3553, 'relevant': 3649, 'crisis': 1015, 'politician': 3332, 'classroom': 776, 'failure': 1633, 'scam': 3841, 'definition': 1122, 'outdated': 3127, 'reflect': 3627, 'moreover': 2892, 'settle': 3937, 'broken': 552, 'mental': 2797, 'pro': 3428, 'damn': 1065, 'benefit': 416, 'cave': 670, 'union': 4683, 'amazingly': 149, 'university': 4689, 'chicago': 723, 'crazy': 1000, 'march': 2719, 'fundamental': 1851, 'overwhelming': 3152, 'majority': 2695, 'cite': 761, 'education': 1409, 'growth': 2002, 'revolutionary': 3726, 'directly': 1226, 'plague': 3295, 'foundation': 1803, 'von': 4807, 'credit': 1008, 'depression': 1156, 'elementary': 1434, 'fellow': 1680, 'loss': 2643, 'freedom': 1822, 'fancy': 1647, 'consequence': 913, 'tremendous': 4595, 'tax': 4391, 'expense': 1590, 'micro': 2820, 'necessary': 2965, 'measure': 2771, 'aka': 112, 'enemy': 1471, 'narration': 2945, 'tedious': 4407, 'donate': 1297, 'critique': 1021, 'capitalist': 628, 'popular': 3340, 'agenda': 98, 'rarely': 3558, 'omit': 3081, 'contrary': 937, 'grain': 1965, 'salt': 3814, 'health': 2078, 'dangerous': 1070, 'myth': 2939, 'context': 932, 'corporate': 965, 'trade': 4567, 'anti': 190, 'preach': 3377, 'net': 2978, 'et': 1526, 'hammer': 2034, 'blind': 459, 'utopian': 4735, 'anytime': 197, 'rehash': 3638, 'worship': 4947, 'tout': 4557, 'enlighten': 1486, 'sanity': 3824, 'casual': 659, 'spring': 4187, 'premise': 3391, 'lifetime': 2569, 'prophetic': 3465, 'surprisingly': 4342, 'paul': 3221, 'laughable': 2511, 'skim': 4041, 'mislead': 2853, 'faulty': 1663, 'apparently': 207, 'promote': 3454, 'flaw': 1741, 'duty': 1370, 'equation': 1507, 'analyze': 164, 'narrow': 2948, 'introductory': 2351, 'importantly': 2238, 'recycle': 3615, 'pepper': 3238, 'concerned': 892, 'secretly': 3894, 'instrument': 2318, 'velvet': 4758, 'techno': 4405, 'electronica': 1431, 'tire': 4518, 'ho': 2131, 'dumb': 1361, 'im': 2222, 'stellar': 4219, 'invite': 2358, 'vary': 4750, 'musical': 2929, 'animated': 174, 'punch': 3489, 'station': 4212, 'transport': 4582, 'definitly': 1124, 'tripod': 4609, 'bag': 328, 'circuit': 759, 'anderson': 167, 'poverty': 3366, 'sweden': 4356, 'sent': 3919, 'journey': 2423, 'sorrow': 4124, 'daniel': 1071, 'hidden': 2110, 'lyrical': 2670, 'constant': 920, 'nineteen': 3002, 'contribution': 940, 'minority': 2846, 'incomprehensible': 2259, 'anthology': 188, 'christian': 743, 'torso': 4545, 'cincher': 754, 'boning': 483, 'chest': 721, 'hanging': 2041, 'wire': 4913, 'bra': 516, 'whereas': 4877, 'custom': 1049, 'cloth': 799, 'squeem': 4190, 'shapewear': 3958, 'bone': 482, 'butt': 590, 'hardly': 2054, 'firm': 1723, 'vintage': 4783, 'expensive': 1591, 'clothes': 800, 'liner': 2591, 'comfortably': 837, 'layer': 2518, 'measurement': 2772, 'posture': 3360, 'associate': 264, 'slim': 4061, 'reduce': 3621, 'clothing': 801, 'wedding': 4859, 'opt': 3100, 'bust': 588, 'tighter': 4502, 'def': 1111, 'boob': 486, 'dd': 1085, 'everyday': 1541, 'belly': 406, 'pregnancy': 3386, 'sick': 3994, 'literally': 2607, 'desk': 1167, 'pleasant': 3311, 'flexible': 1747, 'recommended': 3610, 'unbearable': 4657, 'bulge': 575, 'spare': 4143, 'fold': 1769, 'trim': 4605, 'shirt': 3976, 'lift': 2570, 'upset': 4715, 'miracle': 2849, 'squeeze': 4191, 'fraction': 1807, 'lb': 2521, 'tummy': 4623, 'thou': 4480, 'tank': 4384, 'sweat': 4355, 'out': 3125, 'tall': 4381, 'mid': 2822, 'inner': 2293, 'cotton': 971, 'pure': 3494, 'occasion': 3054, 'birth': 439, 'specifically': 4156, 'bulky': 576, 'sizing': 4035, 'speed': 4162, 'surgery': 4337, 'stomach': 4239, 'theres': 4464, 'underneath': 4664, 'breathing': 532, 'bell': 405, 'snug': 4083, 'concentrate': 889, 'breast': 529, 'compress': 883, 'believer': 403, 'pregnant': 3387, 'pinch': 3285, 'ur': 4717, 'downside': 1312, 'portion': 3346, 'sew': 3943, 'satisfied': 3831, 'sock': 4091, 'specially': 4153, 'bend': 414, 'upper': 4713, 'defeat': 1112, 'increase': 2263, 'bent': 417, 'repair': 3676, 'gym': 2020, 'diminish': 1218, 'visible': 4792, 'pink': 3286, 'spine': 4171, 'severe': 3941, 'injury': 2291, 'surpass': 4338, 'suprise': 4329, 'merchandise': 2803, 'absorb': 9, 'abandon': 1, 'torture': 4546, 'asap': 248, 'instant': 2312, 'ease': 1388, 'loop': 2636, 'seam': 3885, 'snap': 4078, 'eventually': 1536, 'visually': 4797, 'divide': 1278, 'ouch': 3123, 'daily': 1060, 'rod': 3760, 'painfully': 3169, 'ultimately': 4648, 'grandmother': 1973, 'encourage': 1466, 'trap': 4583, 'diet': 1206, 'anticipate': 191, 'fitting': 1732, 'lousy': 2649, 'near': 2961, 'fly': 1764, 'steam': 4216, 'badly': 327, 'stab': 4192, 'havent': 2068, 'hence': 2100, 'reminder': 3664, 'occur': 3057, 'slight': 4059, 'stamp': 4200, 'swell': 4359, 'disease': 1249, 'terribly': 4434, 'gross': 1998, 'rear': 3586, 'sometime': 4107, 'aircraft': 109, 'marie': 2722, 'doll': 1292, 'owe': 3153, 'seemingly': 3902, 'permanent': 3250, 'german': 1906, 'logan': 2624, 'jimmy': 2411, 'ponder': 3334, 'nine': 3001, 'unwatchable': 4705, 'cheese': 717, 'scholarly': 3858, 'mold': 2871, 'distinct': 1270, 'mass': 2740, 'formal': 1789, 'gold': 1942, 'pray': 3376, 'overcome': 3139, 'vinyl': 4784, 'rhapsody': 3730, 'caan': 599, 'higgins': 2112, 'danger': 1069, 'publisher': 3482, 'disturb': 1273, 'sean': 3886, 'justice': 2437, 'competition': 866, 'british': 547, 'legal': 2542, 'entertainment': 1492, 'slog': 4063, 'dillon': 1215, 'dozen': 1314, 'para': 3185, 'expose': 1604, 'promising': 3453, 'smoke': 4074, 'generous': 1895, 'sequel': 3925, 'guilty': 2012, 'status': 4213, 'oops': 3086, 'aspire': 258, 'strangely': 4254, 'editor': 1407, 'dialog': 1194, 'kate': 2440, 'reaction': 3571, 'rough': 3776, 'curiosity': 1041, 'tension': 4428, 'executive': 1578, 'cliche': 785, 'guard': 2005, 'agent': 99, 'target': 4387, 'shoot': 3980, 'timing': 4513, 'wrestle': 4957, 'silent': 4003, 'jefferson': 2401, 'tired': 4519, 'extension': 1611, 'meeting': 2784, 'strain': 4251, 'spy': 4188, 'board': 473, 'cartoon': 651, 'pose': 3350, 'jacket': 2382, 'dust': 1369, 'harry': 2060, 'screenplay': 3875, 'shred': 3990, 'shall': 3954, 'uninspired': 4681, 'critical': 1018, 'eagle': 1376, 'sudden': 4302, 'saga': 3809, 'bernstein': 419, 'precede': 3378, 'nerve': 2976, 'irish': 2364, 'hack': 2024, 'stinker': 4235, 'schwartz': 3860, 'los': 2640, 'rabbit': 3527, 'ballroom': 333, 'vega': 4753, 'duke': 1359, 'shine': 3971, 'destine': 1172, 'greatness': 1984, 'herb': 2102, 'precise': 3380, 'plant': 3301, 'stream': 4258, 'scanner': 3843, 'vista': 4795, 'scan': 3842, 'firmware': 1724, 'jane': 2387, 'universe': 4688, 'scarlett': 3848, 'scarlet': 3847, 'hawthorne': 2069, 'underlying': 4663, 'atlas': 271, 'huxley': 2199, 'vacation': 4738, 'puritan': 3497, 'confess': 899, 'physical': 3272, 'reccomend': 3593, 'auto': 297, 'dolby': 1291, 'mundane': 2924, 'allusion': 126, 'hester': 2107, 'needle': 2968, 'us': 4720, 'convey': 949, 'dickens': 1201, 'boredom': 496, 'fahrenheit': 1630, 'footnote': 1780, 'nonetheless': 3015, 'gripping': 1994, 'neat': 2963, 'essence': 1519, 'navigate': 2957, 'ebook': 1395, 'nathaniel': 2950, 'strength': 4260, 'cop': 957, 'rigid': 3743, 'psychological': 3477, 'divorce': 1279, 'adultery': 74, 'punishment': 3490, 'dover': 1308, 'reprint': 3688, 'confirm': 902, 'pretentious': 3404, 'era': 1510, 'mildly': 2829, 'hi': 2109, 'assignment': 263, 'dread': 1327, 'captivating': 632, 'worse': 4946, 'aunt': 290, 'ugh': 4644, 'honor': 2149, 'wordy': 4936, 'dirt': 1228, 'empathize': 1455, 'tragedy': 4570, 'effectively': 1415, 'reccommend': 3594, 'mainly': 2689, 'historically': 2127, 'pill': 3281, 'timely': 4511, 'cliff': 789, 'robot': 3756, 'wasted': 4840, 'indeed': 2266, 'beg': 391, 'unfamiliar': 4673, 'dislike': 1257, 'empty': 1461, 'overly': 3143, 'humanity': 2185, 'filler': 1702, 'cynical': 1056, 'vice': 4772, 'awhile': 315, 'assign': 262, 'cliched': 786, 'marking': 2728, 'masterful': 2745, 'literary': 2608, 'rule': 3788, 'shell': 3965, 'belong': 408, 'electronic': 1430, 'formatting': 1791, 'cheat': 714, 'irritate': 2369, 'spirit': 4173, 'paperback': 3182, 'engross': 1480, 'flawless': 1742, 'guilt': 2011, 'irony': 2367, 'exceptional': 1566, 'fee': 1671, 'yawn': 4974, 'childish': 729, 'classify': 775, 'shadow': 3949, 'headache': 2074, 'jeff': 2400, 'ap': 201, 'hint': 2121, 'quote': 3524, 'significant': 4001, 'inability': 2246, 'revelation': 3719, 'fist': 1729, 'court': 983, 'unlikely': 4693, 'spider': 4167, 'pow': 3367, 'exceptionally': 1567, 'surprising': 4341, 'uninteresting': 4682, 'sucker': 4300, 'forth': 1795, 'sophomore': 4121, 'degree': 1128, 'grief': 1989, 'exam': 1556, 'freakin': 1820, 'afterwards': 96, 'overrate': 3146, 'reject': 3640, 'exposure': 1606, 'versus': 4764, 'construct': 922, 'noble': 3007, 'applicable': 212, 'ought': 3124, 'peel': 3231, 'wander': 4821, 'redemption': 3619, 'teenager': 4410, 'font': 1775, 'happens': 2045, 'sappy': 3827, 'victorian': 4774, 'sue': 4304, 'ignorance': 2212, 'okay': 3077, 'sux': 4352, 'quiz': 3523, 'slowly': 4067, 'lightly': 2573, 'lock': 2622, 'attic': 279, 'mentally': 2799, 'tempt': 4422, 'therapy': 4461, 'twisted': 4637, 'cure': 1039, 'insomnia': 2302, 'ridiculously': 3740, 'bloody': 464, 'junior': 2435, 'patient': 3216, 'rank': 3552, 'readily': 3575, 'october': 3059, 'luck': 2660, 'meaningful': 2768, 'ashamed': 250, 'harsh': 2061, 'sleeping': 4055, 'lap': 2496, 'stress': 4261, 'thier': 4468, 'taught': 4390, 'orwell': 3118, 'bradbury': 517, 'attack': 275, 'dare': 1072, 'oppression': 3098, 'comparable': 858, 'superior': 4321, 'arthur': 239, 'visual': 4796, 'aid': 105, 'moore': 2890, 'poetic': 3323, 'cram': 992, 'extend': 1609, 'renew': 3673, 'pride': 3412, 'favor': 1664, 'dreary': 1330, 'dreadful': 1328, 'aim': 106, 'miserably': 2851, 'numerous': 3041, 'composition': 880, 'determine': 1180, 'suffers': 4306, 'bush': 586, 'prison': 3423, 'seattle': 3890, 'rain': 3539, 'proof': 3458, 'suprised': 4330, 'senior': 3912, 'dual': 1349, 'meaning': 2767, 'tomato': 4531, 'anthony': 189, 'wilbur': 4896, 'ft': 1844, 'listing': 2605, 'substandard': 4289, 'cent': 681, 'suction': 4301, 'cleaning': 781, 'feed': 1672, 'compartment': 861, 'knife': 2463, 'tray': 4589, 'se': 3882, 'asia': 251, 'lao': 2495, 'august': 289, 'australian': 293, 'sloppy': 4064, 'functional': 1850, 'yep': 4981, 'meter': 2814, 'probe': 3430, 'convince': 950, 'atrocious': 273, 'wouldnt': 4953, 'kiss': 2459, 'jerry': 2405, 'lewis': 2559, 'depressing': 1155, 'holiday': 2137, 'cancel': 616, 'dissapointment': 1266, 'receipt': 3595, 'rude': 3785, 'discount': 1242, 'rack': 3531, 'pretend': 3403, 'bomb': 480, 'flop': 1755, 'simpson': 4014, 'drunk': 1346, 'whitney': 4883, 'allen': 124, 'crack': 990, 'santa': 3826, 'teeth': 4411, 'billy': 431, 'remotely': 3668, 'hairy': 2028, 'diehard': 1205, 'downright': 1311, 'stargate': 4207, 'signal': 3999, 'gas': 1880, 'pulse': 3486, 'flute': 1763, 'sax': 3838, 'storm': 4244, 'jones': 2420, 'quartet': 3508, 'william': 4899, 'dave': 1081, 'inappropriate': 2250, 'shut': 3992, 'duck': 1354, 'rail': 3538, 'caring': 642, 'yer': 4982, 'flag': 1735, 'reasonable': 3588, 'elvis': 1443, 'deborah': 1094, 'drummer': 1345, 'le': 2523, 'spinout': 4172, 'king': 2457, 'diane': 1198, 'height': 2092, 'una': 4653, 'reed': 3623, 'cinema': 755, 'redeeming': 3618, 'chase': 710, 'erotic': 1512, 'listenable': 2601, 'motion': 2901, 'properly': 3462, 'expire': 1597, 'assembly': 261, 'ebay': 1394, 'separately': 3923, 'shade': 3948, 'fortune': 1798, 'hardware': 2055, 'grind': 1991, 'crank': 993, 'grinder': 1992, 'operate': 3091, 'shoddy': 3978, 'brush': 557, 'jensen': 2403, 'pitch': 3290, 'accessible': 19, 'psychology': 3478, 'industry': 2276, 'intellectual': 2322, 'influential': 2282, 'teaching': 4398, 'fortunate': 1796, 'phd': 3261, 'document': 1284, 'fuzzy': 1860, 'unacceptable': 4655, 'unfortunate': 4676, 'fluff': 1760, 'breathe': 531, 'affect': 89, 'concern': 891, 'academy': 14, 'announce': 181, 'oscar': 3120, 'bible': 427, 'fifteen': 1693, 'journalist': 2422, 'minimal': 2841, 'hype': 2200, 'definite': 1120, 'metallica': 2812, 'garage': 1874, 'successfully': 4298, 'twenty': 4632, 'diagram': 1193, 'instructor': 2317, 'pursuit': 3501, 'scale': 3840, 'violet': 4787, 'purple': 3498, 'scientist': 3864, 'promptly': 3456, 'training': 4575, 'nervous': 2977, 'photography': 3270, 'louis': 2647, 'groove': 1997, 'adapt': 51, 'rhyme': 3731, 'cube': 1033, 'gadget': 1864, 'magnum': 2686, 'refill': 3626, 'lip': 2595, 'lunchbox': 2667, 'stain': 4197, 'crocodile': 1022, 'lunch': 2666, 'drink': 1335, 'soup': 4134, 'breath': 530, 'ban': 334, 'weave': 4855, 'temptation': 4423, 'closer': 797, 'perfection': 3243, 'evolve': 1552, 'descent': 1158, 'sp': 4139, 'bum': 578, 'mediocre': 2781, 'mar': 2718, 'johnson': 2416, 'bland': 450, 'bash': 351, 'proud': 3471, 'biological': 437, 'gloria': 1929, 'wilson': 4902, 'lp': 2659, 'dated': 1079, 'howard': 2176, 'anne': 179, 'epic': 1502, 'slick': 4057, 'annie': 180, 'mtv': 2917, 'ann': 178, 'milk': 2832, 'career': 639, 'wolf': 4926, 'rockin': 3759, 'sorely': 4123, 'slave': 4050, 'mistress': 2860, 'truely': 4616, 'corny': 964, 'durability': 1367, 'magnificent': 2685, 'circle': 758, 'complexity': 873, 'sonic': 4114, 'progressive': 3450, 'rhythm': 3732, 'spectrum': 4160, 'velcro': 4757, 'collins': 824, 'sam': 3815, 'charlie': 706, 'hall': 2031, 'rage': 3536, 'jazzy': 2398, 'clock': 793, 'scripture': 3879, 'christ': 742, 'hd': 2071, 'sync': 4367, 'mouth': 2910, 'warner': 4829, 'ti': 4496, 'whim': 4879, 'eve': 1532, 'quest': 3512, 'gang': 1872, 'broadcast': 549, 'blu': 466, 'ray': 3569, 'capacity': 625, 'appal': 205, 'retail': 3714, 'speaking': 4148, 'babe': 319, 'wise': 4916, 'eternal': 1528, 'charles': 705, 'crew': 1011, 'jesus': 2406, 'bless': 457, 'withstand': 4922, 'passage': 3205, 'crisp': 1016, 'deluxe': 1141, 'limitation': 2586, 'inclusion': 2256, 'gentle': 1899, 'speech': 4161, 'uneven': 4671, 'thankfully': 4451, 'specify': 4158, 'spec': 4150, 'min': 2836, 'couch': 972, 'soooo': 4119, 'widescreen': 4892, 'clay': 779, 'creation': 1003, 'upside': 4716, 'connect': 910, 'fifth': 1694, 'afford': 90, 'mattress': 2754, 'powerbook': 3369, 'adapter': 53, 'amp': 158, 'ibook': 2202, 'macally': 2673, 'ac': 12, 'apple': 211, 'cycle': 1055, 'fiddle': 1691, 'connection': 911, 'indicator': 2272, 'better': 423, 'fluke': 1761, 'generate': 1892, 'bargain': 345, 'brick': 538, 'handy': 2039, 'adaptor': 54, 'connector': 912, 'resume': 3713, 'sufficient': 4307, 'continuously': 935, 'prone': 3457, 'drawback': 1324, 'aluminum': 143, 'operation': 3093, 'buzz': 596, 'await': 307, 'request': 3690, 'initial': 2289, 'quiet': 3517, 'questionable': 3514, 'orange': 3103, 'airport': 111, 'weigh': 4863, 'affordable': 91, 'glance': 1923, 'electrical': 1429, 'budget': 566, 'sacrifice': 3802, 'th': 4447, 'following': 1772, 'transformer': 4578, 'idiot': 2210, 'satisfaction': 3830, 'backpack': 324, 'outer': 3129, 'suspect': 4348, 'disconnect': 1240, 'hassle': 2062, 'obtain': 3051, 'notify': 3031, 'resolve': 3699, 'usage': 4723, 'lemon': 2545, 'candy': 618, 'added': 56, 'oem': 3065, 'justify': 2438, 'lighting': 2572, 'unstable': 4701, 'um': 4650, 'temporary': 4421, 'compact': 854, 'missing': 2857, 'puppy': 3492, 'link': 2592, 'overprice': 3145, 'whine': 4881, 'shaft': 3950, 'odds': 3061, 'binchy': 433, 'fuss': 1857, 'discourage': 1243, 'silver': 4005, 'observation': 3049, 'teller': 4414, 'marvelous': 2737, 'nephew': 2975, 'artistic': 244, 'busy': 589, 'improvement': 2245, 'toddler': 4525, 'pin': 3284, 'bead': 373, 'sand': 3819, 'scifi': 3865, 'spiritual': 4174, 'dude': 1356, 'bathroom': 362, 'queensryche': 3511, 'booklet': 488, 'il': 2216, 'tempo': 4420, 'del': 1130, 'empire': 1460, 'dire': 1222, 'mike': 2827, 'un': 4652, 'west': 4868, 'wine': 4907, 'por': 3342, 'en': 1462, 'ella': 1439, 'excelente': 1561, 'ma': 2671, 'brian': 537, 'persona': 3253, 'rust': 3797, 'manufacture': 2713, 'china': 731, 'poem': 3321, 'verse': 4762, 'leader': 2525, 'cannon': 619, 'expedition': 1589, 'river': 3751, 'fort': 1794, 'gun': 2017, 'trek': 4594, 'cambridge': 606, 'install': 2308, 'mount': 2907, 'resonate': 3700, 'mechanical': 2774, 'core': 961, 'evident': 1547, 'traveler': 4587, 'scenery': 3853, 'odysseus': 3063, 'ulysses': 4649, 'infrared': 2287, 'vibrate': 4769, 'flashlight': 1738, 'bulb': 574, 'lennon': 2550, 'occasional': 3055, 'eddie': 1402, 'latin': 2508, 'funk': 1853, 'texture': 4446, 'testament': 4443, 'circumstance': 760, 'aussie': 291, 'shower': 3989, 'monkey': 2878, 'creep': 1009, 'writen': 4959, 'technically': 4403, 'photograph': 3269, 'reunion': 3717, 'overdue': 3141, 'webb': 4857, 'dimension': 1216, 'glen': 1925, 'campbell': 612, 'moving': 2914, 'upbeat': 4706, 'dwarf': 1372, 'interpretation': 2341, 'stunning': 4278, 'organize': 3111, 'amish': 154, 'therapist': 4460, 'translate': 4580, 'confused': 907, 'platform': 3304, 'ego': 1418, 'commentary': 844, 'accomplishment': 26, 'enthral': 1493, 'disgrace': 1250, 'remark': 3659, 'humble': 2186, 'cooker': 954, 'uplifting': 4711, 'importance': 2236, 'simplicity': 4011, 'quilt': 3518, 'sentiment': 3921, 'insightful': 2301, 'calm': 605, 'east': 1390, 'marine': 2723, 'closely': 796, 'leak': 2529, 'meal': 2764, 'locally': 2619, 'output': 3134, 'magnet': 2684, 'celtic': 676, 'wipe': 4912, 'chore': 739, 'spill': 4169, 'tried': 4602, 'bunny': 581, 'shaker': 3952, 'detect': 1177, 'chunk': 751, 'invasion': 2353, 'coherent': 814, 'burmese': 582, 'breed': 534, 'meat': 2773, 'chicken': 725, 'raw': 3568, 'characteristic': 701, 'quantity': 3506, 'gorgeous': 1954, 'trace': 4565, 'enable': 1463, 'napoleon': 2944, 'biography': 436, 'specialist': 4152, 'differ': 1207, 'emperor': 1457, 'praise': 3374, 'criticize': 1020, 'memoir': 2793, 'lab': 2477, 'sinister': 4024, 'haha': 2025, 'ghost': 1910, 'setup': 3938, 'nonsensical': 3019, 'rural': 3792, 'running': 3791, 'urban': 4718, 'spirituality': 4175, 'fifty': 1695, 'tore': 4544, 'catherine': 666, 'comfort': 835, 'cream': 1001, 'haunt': 2066, 'revisit': 3724, 'boys': 515, 'dishwasher': 1254, 'specification': 4157, 'headset': 2076, 'bluetooth': 469, 'motorola': 2906, 'wannabe': 4822, 'prepared': 3395, 'clip': 792, 'harmony': 2057, 'songwriter': 4113, 'camp': 610, 'manufacturing': 2715, 'taylor': 4392, 'boat': 474, 'pocket': 3320, 'arrange': 233, 'chill': 730, 'thrash': 4485, 'northern': 3024, 'dome': 1295, 'xmas': 4968, 'diameter': 1196, 'google': 1951, 'prep': 3392, 'density': 1147, 'lecture': 2537, 'brazil': 525, 'scope': 3867, 'companion': 856, 'experiment': 1594, 'tilt': 4506, 'adjustment': 66, 'opener': 3088, 'drill': 1334, 'paste': 3210, 'dolly': 1294, 'parton': 3201, 'sustain': 4351, 'delivers': 1138, 'sugar': 4308, 'independent': 2267, 'lend': 2546, 'unforgettable': 4675, 'fond': 1773, 'soar': 4086, 'lhasa': 2560, 'sings': 4023, 'wrench': 4956, 'kurt': 2474, 'intimate': 2345, 'diversity': 1277, 'originality': 3114, 'tango': 4383, 'ala': 114, 'subsequent': 4287, 'musicianship': 2931, 'modest': 2869, 'abroad': 4, 'spooky': 4181, 'majestic': 2693, 'knight': 2464, 'accurately': 31, 'audiobook': 287, 'accent': 15, 'climb': 791, 'elizabeth': 1438, 'loyalty': 2658, 'whats': 4873, 'sir': 4026, 'simon': 4008, 'laughter': 2512, 'mankind': 2708, 'bubble': 560, 'workmanship': 4941, 'holy': 2142, 'casting': 657, 'standout': 4203, 'bolt': 479, 'route': 3778, 'india': 2269, 'sport': 4182, 'headphone': 2075, 'eidos': 1420, 'gameplay': 1869, 'tomb': 4532, 'raider': 3537, 'delay': 1131, 'lara': 2499, 'horrid': 2160, 'stall': 4199, 'blank': 451, 'ram': 3543, 'turkey': 4625, 'controller': 943, 'sensitive': 3916, 'fence': 1686, 'news': 2985, 'cutting': 1053, 'preview': 3407, 'franchise': 1811, 'depressed': 1154, 'playable': 3306, 'sticker': 4228, 'unusable': 4703, 'glitch': 1928, 'bat': 359, 'explosion': 1603, 'fighting': 1698, 'surroundings': 4345, 'resident': 3697, 'washer': 4835, 'deck': 1103, 'chemical': 719, 'network': 2979, 'disposable': 1262, 'motor': 2904, 'absent': 5, 'updated': 4709, 'impact': 2232, 'fishing': 1728, 'buggy': 570, 'relevance': 3648, 'desperate': 1169, 'forum': 1800, 'foreign': 1783, 'watson': 4846, 'desperately': 1170, 'succeed': 4295, 'merely': 2805, 'polish': 3330, 'erotica': 1513, 'inaccurate': 2248, 'realise': 3579, 'lust': 2668, 'devote': 1187, 'fragile': 1808, 'staple': 4204, 'sarah': 3828, 'devoid': 1186, 'backdrop': 322, 'wierd': 4894, 'wedge': 4860, 'dawn': 1083, 'leaf': 2527, 'oversized': 3149, 'clamp': 767, 'round': 3777, 'april': 220, 'ace': 32, 'buddhism': 563, 'inevitably': 2277, 'entirety': 1497, 'gifted': 1915, 'notion': 3032, 'documentary': 1285, 'planning': 3300, 'vol': 4805, 'restore': 3711, 'shoulder': 3986, 'rope': 3773, 'escape': 1516, 'reverse': 3721, 'anchor': 165, 'logical': 2626, 'harder': 2053, 'limp': 2588, 'code': 812, 'brutal': 558, 'mayhem': 2760, 'vein': 4756, 'interface': 2335, 'army': 231, 'arch': 222, 'troop': 4612, 'strategy': 4257, 'demo': 1144, 'terrain': 4432, 'expansion': 1586, 'few': 1687, 'notch': 3026, 'tribe': 4599, 'intro': 2348, 'partial': 3197, 'listens': 2604, 'deaf': 1088, 'alert': 119, 'cousin': 985, 'buddhist': 564, 'obnoxious': 3047, 'humorous': 2188, 'quirky': 3520, 'reread': 3693, 'tremendously': 4596, 'blessing': 458, 'gypsy': 2021, 'tick': 4497, 'leadership': 2526, 'lace': 2481, 'strand': 4252, 'cage': 601, 'martin': 2735, 'discovery': 1245, 'belva': 411, 'consume': 924, 'stable': 4193, 'immensely': 2230, 'gerald': 1905, 'breakdown': 528, 'housing': 2174, 'coating': 809, 'strictly': 4263, 'decorative': 1106, 'toss': 4547, 'bin': 432, 'trio': 4606, 'golf': 1944, 'filter': 1705, 'unlock': 4695, 'roller': 3763, 'coaster': 807, 'bruce': 555, 'martial': 2734, 'relation': 3642, 'discipline': 1239, 'grey': 1988, 'melissa': 2788, 'undoubtedly': 4670, 'delete': 1132, 'blast': 453, 'virus': 4791, 'stuck': 4272, 'midi': 2824, 'countless': 977, 'component': 877, 'behave': 396, 'su': 4283, 'como': 853, 'examination': 1557, 'glue': 1935, 'accessory': 20, 'bow': 507, 'tad': 4374, 'indian': 2270, 'minus': 2847, 'intent': 2327, 'radiator': 3533, 'nickel': 2992, 'installation': 2309, 'comparison': 860, 'pan': 3177, 'lightness': 2574, 'nikon': 3000, 'usable': 4722, 'zoom': 4999, 'lens': 2551, 'disguise': 1251, 'hilditch': 2119, 'trevor': 4597, 'felicia': 1678, 'viewpoint': 4779, 'supplement': 4323, 'fi': 1688, 'faster': 1658, 'golden': 1943, 'coat': 808, 'pump': 3487, 'mug': 2921, 'liquid': 2597, 'thesis': 4466, 'monitor': 2876, 'adjustable': 65, 'crappy': 995, 'generic': 1894, 'refresh': 3629, 'marvel': 2736, 'profoundly': 3445, 'ministry': 2843, 'newly': 2983, 'representation': 3687, 'violent': 4786, 'origin': 3112, 'picky': 3277, 'leather': 2535, 'alarm': 115, 'carbon': 635, 'monoxide': 2881, 'detector': 1179, 'vent': 4760, 'carpet': 645, 'ceiling': 673, 'pricey': 3411, 'approve': 219, 'curtain': 1046, 'beep': 389, 'emergency': 1449, 'dive': 1275, 'wisdom': 4915, 'brainless': 520, 'neighbor': 2972, 'inspiring': 2306, 'journal': 2421, 'guidance': 2009, 'madonna': 2679, 'bored': 495, 'rose': 3774, 'dean': 1090, 'shout': 3987, 'whoever': 4884, 'watching': 4843, 'defect': 1113, 'valve': 4744, 'rocket': 3758, 'nipple': 3004, 'lane': 2493, 'launch': 2513, 'securely': 3897, 'subtitle': 4292, 'yoga': 4987, 'workbook': 4938, 'exhaust': 1580, 'tribute': 4600, 'riff': 3741, 'bedding': 387, 'ironic': 2366, 'expression': 1608, 'xanth': 4966, 'unreadable': 4698, 'zombie': 4998, 'dale': 1061, 'elevator': 1436, 'beatles': 378, 'asian': 252, 'pool': 3336, 'towel': 4560, 'coleman': 816, 'soviet': 4138, 'frightening': 1836, 'tightly': 4503, 'region': 3634, 'makeup': 2698, 'lesbian': 2552, 'consistent': 917, 'elastic': 1425, 'dot': 1303, 'umbra': 4651, 'tile': 4504, 'warmth': 4827, 'genuinely': 1903, 'national': 2952, 'korean': 2472, 'cookbook': 953, 'pa': 3157, 'establish': 1522, 'nyc': 3044, 'briefly': 541, 'phenomenal': 3262, 'acknowledge': 35, 'diabetic': 1191, 'glucose': 1934, 'medication': 2778, 'diabetes': 1190, 'kudos': 2473, 'educate': 1408, 'peak': 3227, 'med': 2776, 'required': 3692, 'venus': 4761, 'identical': 2207, 'buff': 568, 'stalingrad': 4198, 'luftwaffe': 2663, 'aviation': 304, 'argentine': 225, 'dancing': 1068, 'dancer': 1067, 'routine': 3780, 'ranger': 3551, 'february': 1670, 'schedule': 3855, 'edward': 1411, 'swap': 4353, 'excellant': 1562, 'dede': 1107, 'amuse': 159, 'described': 1160, 'bd': 370, 'boxset': 512, 'spiderman': 4168, 'extraordinary': 1616, 'samsung': 3817, 'xbox': 4967, 'russian': 3796, 'bold': 478, 'mere': 2804, 'grainy': 1966, 'diamond': 1197, 'acid': 34, 'sympathy': 4366, 'wicca': 4887, 'invent': 2354, 'goddess': 1941, 'hutton': 2198, 'obscure': 3048, 'conduct': 898, 'firewire': 1722, 'september': 3924, 'ad': 49, 'tony': 4538, 'ending': 1468, 'lake': 2488, 'pitchshifter': 3291, 'industrial': 2275, 'manager': 2705, 'scotland': 3869, 'canada': 615, 'ra': 3525, 'awe': 312, 'egyptian': 1419, 'amateurish': 146, 'challenging': 693, 'rewrite': 3729, 'liberty': 2562, 'washing': 4836, 'monumental': 2886, 'cameron': 609, 'ljs': 2615, 'gillian': 1917, 'popularity': 3341, 'gary': 1879, 'creature': 1006, 'communist': 851, 'haiku': 2026, 'problematic': 3432, 'van': 4746, 'handbook': 2036, 'poet': 3322, 'kerouac': 2446, 'skeptical': 4038, 'mothman': 2900, 'prophecy': 3464, 'dubious': 1353, 'keel': 2442, 'ufo': 4643, 'phenomenon': 3263, 'disjoint': 1255, 'bogus': 477, 'sighting': 3997, 'albeit': 117, 'screenwriter': 3876, 'gordon': 1952, 'primarily': 3413, 'mighty': 2826, 'storytelling': 4249, 'letdown': 2556, 'controversial': 944, 'admittedly': 69, 'beast': 376, 'incident': 2253, 'london': 2630, 'parallel': 3189, 'incoherent': 2257, 'happening': 2044, 'scenario': 3851, 'acquire': 38, 'entitle': 1498, 'goofy': 1950, 'stormy': 4245, 'monster': 2882, 'sincere': 4017, 'copyright': 959, 'outrage': 3135, 'dreck': 1331, 'innovative': 2295, 'pulp': 3485, 'racism': 3529, 'fighter': 1697, 'lene': 2547, 'analog': 162, 'replay': 3683, 'censorship': 680, 'anime': 176, 'suicide': 4311, 'maximum': 2757, 'math': 2751, 'newman': 2984, 'definitive': 1123, 'debate': 1093, 'nightwish': 2999, 'guardian': 2006, 'eva': 1531, 'bob': 475, 'thermometer': 4465, 'frequent': 1825, 'temp': 4416, 'hospital': 2166, 'tent': 4429, 'alice': 120, 'criticism': 1019, 'module': 2870, 'bdsm': 371, 'maria': 2720, 'inadequate': 2249, 'snmp': 4080, 'lately': 2506, 'tooth': 4540, 'randomly': 3549, 'frankenstein': 1815, 'koontz': 2471, 'repetition': 3679, 'ally': 127, 'madman': 2677, 'prelude': 3390, 'madness': 2678, 'canon': 620, 'panasonic': 3178, 'rewind': 3728, 'posting': 3359, 'sixty': 4033, 'differently': 1210, 'nirvana': 3005, 'cobain': 810, 'hardcore': 2051, 'bean': 374, 'estate': 1523, 'courtney': 984, 'catalogue': 662, 'boxed': 511, 'yea': 4975, 'recover': 3613, 'doug': 1306, 'mud': 2919, 'lone': 2631, 'fitness': 1731, 'survival': 4346, 'hiking': 2117, 'drip': 1337, 'gritty': 1995, 'sci': 3861, 'lillian': 2583, 'dell': 1140, 'toxic': 4563, 'avenger': 302, 'troma': 4611, 'gratuitous': 1979, 'citizen': 762, 'poster': 3358, 'utter': 4736, 'router': 3779, 'discontinue': 1241, 'flush': 1762, 'carriage': 646, 'vitex': 4800, 'finance': 1709, 'eliminate': 1437, 'mild': 2828, 'acne': 36, 'darker': 1074, 'touching': 4553, 'camping': 613, 'admire': 67, 'mario': 2724, 'exuviance': 1619, 'avail': 300, 'vibrator': 4771, 'heinlein': 2093, 'motivate': 2902, 'fare': 1651, 'depiction': 1152, 'realism': 3580, 'pursue': 3500, 'hardy': 2056, 'outlaw': 3131, 'rape': 3555, 'valley': 4741, 'boo': 485, 'motherhood': 2899, 'telling': 4415, 'slavery': 4051, 'prediction': 3384, 'michigan': 2819, 'couldnt': 974, 'scare': 3845, 'monotonous': 2880, 'confront': 904, 'bike': 429, 'snuggly': 4084, 'carrier': 647, 'grandfather': 1972, 'viewing': 4778, 'bradley': 518, 'crawford': 997, 'outdoor': 3128, 'satire': 3829, 'juliet': 2430, 'sleeper': 4054, 'cinematography': 757, 'paranoid': 3191, 'sky': 4045, 'odor': 3062, 'sf': 3947, 'voyage': 4810, 'heater': 2086, 'chaos': 698, 'hopeful': 2154, 'operating': 3092, 'slot': 4065, 'sur': 4331, 'greasy': 1981, 'postcard': 3357, 'mt': 2916, 'pilot': 3283, 'accident': 21, 'dumber': 1362, 'gossip': 1957, 'barn': 346, 'nobel': 3006, 'bay': 367, 'attend': 277, 'hike': 2116, 'maggie': 2681, 'dharma': 1188, 'bud': 562, 'fame': 1641, 'contemplate': 928, 'overrated': 3147, 'hp': 2178, 'theology': 4458, 'shia': 3968, 'megan': 2786, 'fox': 1806, 'actress': 46, 'he': 2072, 'labeouf': 2479, 'ben': 412, 'provider': 3474, 'optimus': 3101, 'freak': 1819, 'bluray': 471, 'banal': 335, 'mentality': 2798, 'continuity': 934, 'nonexistent': 3016, 'cgi': 689, 'jar': 2391, 'remake': 3658, 'procedure': 3433, 'bullet': 577, 'alter': 137, 'slam': 4047, 'dts': 1348, 'stupidity': 4280, 'blockbuster': 461, 'branch': 521, 'gb': 1883, 'jackson': 2383, 'syndrome': 4368, 'theatrical': 4456, 'alpha': 133, 'ticket': 4498, 'hockey': 2132, 'cement': 677, 'destruction': 1174, 'bruckheimer': 556, 'tactic': 4373, 'cowboy': 988, 'can': 614, 'helicopter': 2094, 'violin': 4788, 'specie': 4154, 'decline': 1104, 'ie': 2211, 'epson': 1504, 'compatibility': 862, 'rambo': 3547, 'wwe': 4963, 'cena': 678, 'patrick': 3218, 'cringe': 1014, 'security': 3898, 'hogan': 2133, 'terminator': 4431, 'dramatically': 1322, 'hiss': 2124, 'emarker': 1446, 'playlist': 3310, 'emarks': 1447, 'execution': 1577, 'terrifying': 4437, 'gammell': 1871, 'twilight': 4634, 'compromise': 885, 'gruesome': 2003, 'tame': 4382, 'horrify': 2162, 'scared': 3846, 'echo': 1397, 'sneak': 4079, 'censor': 679, 'aloud': 132, 'mythology': 2940, 'rice': 3733, 'bellydance': 407, 'atea': 269, 'privacy': 3425, 'brando': 523, 'altitude': 141, 'trail': 4572, 'rugged': 3786, 'warmer': 4826, 'muy': 2935, 'tongue': 4537, 'padding': 3164, 'thinker': 4473, 'ralph': 3542, 'recognition': 3604, 'gabriel': 1863, 'cult': 1034, 'hound': 2171, 'ballet': 332, 'defense': 1116, 'predator': 3381, 'ryan': 3801, 'christopher': 747, 'officer': 3071, 'julie': 2429, 'malfunction': 2701, 'poignant': 3325, 'douglas': 1307, 'genuine': 1902, 'brio': 546, 'sensor': 3917, 'automatic': 298, 'feeder': 1674, 'reset': 3696, 'manages': 2706, 'stewart': 4226, 'mellow': 2789, 'underground': 4662, 'amnesia': 155, 'crawl': 998, 'tubthumping': 4622, 'lightning': 2575, 'gal': 1866, 'pitiful': 3292, 'elderly': 1426, 'earthquake': 1387, 'eject': 1423, 'laser': 2503, 'misplace': 2855, 'artificial': 242, 'reminiscent': 3665, 'mule': 2922, 'gibson': 1913, 'oppose': 3096, 'seldon': 3905, 'isaac': 2370, 'spoiler': 4180, 'futuristic': 1859, 'defend': 1115, 'inaccuracy': 2247, 'unexpected': 4672, 'genesis': 1896, 'wwi': 4964, 'hardback': 2050, 'carrot': 648, 'vacuum': 4739, 'sincerely': 4018, 'addiction': 58, 'nick': 2991, 'cf': 688, 'dentist': 1148, 'batman': 363, 'guinea': 2013, 'phase': 3260, 'mesmerize': 2807, 'mccartney': 2762, 'removable': 3669, 'ritter': 3748, 'goodbye': 1947, 'joyce': 2425, 'janet': 2388, 'gay': 1882, 'external': 1613, 'microphone': 2821, 'spear': 4149, 'catholic': 667, 'philosophical': 3265, 'portrait': 3347, 'recovery': 3614, 'cancer': 617, 'sander': 3820, 'sensation': 3913, 'turtle': 4628, 'dystopian': 1374, 'dubbed': 1351, 'aerial': 86, 'racist': 3530, 'pal': 3173, 'shakespeare': 3953, 'rainy': 3540, 'craze': 999, 'dinosaur': 1220, 'harness': 2058, 'rashel': 3560, 'dominate': 1296, 'quinn': 3519, 'curie': 1040, 'prize': 3427, 'simpletech': 4010, 'mb': 2761, 'massacre': 2741, 'patti': 3220, 'evita': 1549, 'intex': 2344, 'inflate': 2280, 'airbed': 108, 'slept': 4056, 'deflate': 1125, 'comforter': 838, 'lump': 2665, 'overnight': 3144, 'restock': 3710, 'xtra': 4970, 'flannel': 1736, 'fleetwood': 1745, 'rumour': 3789, 'mercedes': 2802, 'ford': 1782, 'passionate': 3208, 'cocktail': 811, 'jungle': 2434, 'oop': 3085, 'fonda': 1774, 'barbra': 342, 'rob': 3754, 'luke': 2664, 'mattel': 2752, 'kinsella': 2458, 'sophie': 4120, 'wickham': 4889, 'eby': 1396, 'romeo': 3769, 'spread': 4186, 'nurse': 3042, 'garcia': 1876, 'incest': 2251, 'yello': 4979, 'shirley': 3975, 'homosexuality': 2145, 'manson': 2711, 'bugliosi': 571, 'helter': 2099, 'skelter': 4037, 'gnostic': 1937, 'breathtaking': 533, 'tene': 4427, 'airplane': 110, 'dali': 1062, 'basement': 350, 'ninety': 3003, 'batcave': 360, 'pci': 3225, 'clavell': 778, 'noni': 3017, 'nomad': 3012, 'recharge': 3601, 'earphone': 1384, 'knit': 2465, 'voodoo': 4808, 'nba': 2959, 'ritual': 3749, 'toefl': 4527, 'shift': 3969, 'civil': 764, 'earpiece': 1385, 'vegan': 4754, 'tina': 4515, 'wilderness': 4898, 'sd': 3881, 'sandisk': 3821, 'sansa': 3825, 'carnegie': 644, 'snack': 4077, 'sandra': 3823, 'advocate': 85, 'vincent': 4782, 'prosecutor': 3467, 'senseless': 3915, 'slasher': 4049, 'monk': 2877, 'collar': 819, 'dracula': 1316, 'flint': 1751, 'wireless': 4914, 'jabra': 2380, 'eargels': 1380, 'earbuds': 1378, 'jawbone': 2395, 'eargel': 1379, 'chuck': 749, 'clan': 768, 'swedish': 4357, 'assante': 259, 'odyssey': 3064, 'ian': 2201, 'misfortune': 2852, 'philadelphia': 3264, 'programmer': 3447, 'winston': 4910, 'moby': 2865, 'peck': 3229, 'ahab': 102, 'directing': 1224, 'damme': 1064, 'flea': 1744, 'frank': 1813, 'lackey': 2483, 'tuscan': 4629, 'tuscany': 4630, 'communism': 850, 'rollerball': 3764, 'russell': 3794, 'megaman': 2785, 'chandler': 695, 'noir': 3009, 'scooter': 3866, 'pratchett': 3375, 'discworld': 1248, 'om': 3079, 'celiac': 674, 'gluten': 1936, 'amy': 161, 'usmle': 4731, 'freshman': 1828, 'dogg': 1290, 'gba': 1884, 'timothy': 4514, 'carter': 650, 'rebel': 3590, 'bowie': 508, 'holmes': 2140, 'confrontation': 905, 'sting': 4233, 'cummins': 1037, 'freud': 1829, 'organic': 3109, 'parable': 3186, 'joan': 2412, 'palance': 3174, 'souljah': 4129, 'fw': 1861, 'childbirth': 727, 'birthing': 441, 'sheri': 3966, 'lamaze': 2489, 'bayles': 368, 'argento': 226, 'usher': 4730, 'auel': 288, 'ayla': 318, 'prehistoric': 3388, 'neanderthal': 2960, 'lipstick': 2596, 'sega': 3903, 'gamecube': 1868, 'limerick': 2584, 'astrology': 267, 'antivirus': 192, 'femalien': 1684, 'unrated': 4697, 'flyboys': 1765, 'lafayette': 2487, 'escadrille': 1515, 'dogfight': 1289, 'judith': 2427, 'hostel': 2168, 'bleak': 454, 'paced': 3159, 'bebel': 382, 'dismiss': 1259, 'everest': 1538, 'gammelgaard': 1870, 'elmo': 1440, 'firefighter': 1719, 'csi': 1032, 'taz': 4393, 'frm': 1837, 'garp': 1878, 'enrich': 1488, 'oceania': 3058, 'totalitarian': 4549, 'newspeak': 2987, 'totalitarianism': 4550, 'fundamentalist': 1852, 'concealer': 888, 'huppert': 2194, 'zeta': 4996, 'guinness': 2014, 'montag': 2883, 'clarisse': 769, 'fireman': 1720, 'farenheit': 1652, 'piper': 3288, 'fellowship': 1681, 'gimli': 1918, 'moria': 2893, 'rivendell': 3750, 'ati': 270, 'radeon': 3532, 'compactflash': 855, 'emily': 1450, 'pam': 3176, 'finnegans': 1717, 'finnegan': 1716, 'geforce': 1886, 'lapinator': 2497, 'hatebreed': 2065, 'halti': 2033, 'continuum': 936, 'musiq': 2932, 'lola': 2629, 'franka': 1814, 'soccer': 4087, 'tism': 4520, 'ziggy': 4997, 'stardust': 4206, 'nickelodeon': 2993, 'knot': 2467, 'liam': 2561, 'owen': 3154, 'neeson': 2970, 'lili': 2582, 'eleanor': 1427, 'asvab': 268, 'goodman': 1948, 'cedar': 672, 'florette': 1756, 'manon': 2710, 'apache': 202, 'minolta': 2844, 'marquez': 2730, 'oprah': 3099, 'buendia': 567, 'macondo': 2675, 'papua': 3183, 'java': 2393, 'canterbury': 622, 'chaucer': 711, 'pellegrino': 3232, 'coyote': 989, 'perabo': 3240, 'redgrave': 3620, 'warnes': 4830, 'ronson': 3770, 'tomcat': 4533, 'fraser': 1817, 'mckellen': 2763, 'brendan': 536, 'mosby': 2896, 'stacie': 4194, 'orrico': 3117, 'christina': 744, 'ry': 3800, 'carlton': 643, 'hopkins': 2156, 'lovebird': 2651, 'linksys': 2593, 'basset': 358, 'baskerville': 355, 'doyle': 1313, 'sherlock': 3967, 'baskervilles': 356, 'marlon': 2729, 'donati': 1298, 'claustrophobic': 777}\n"
     ]
    }
   ],
   "source": [
    "print(Tfidf_vect.vocabulary_)"
   ]
  },
  {
   "cell_type": "code",
   "execution_count": 17,
   "metadata": {},
   "outputs": [
    {
     "name": "stdout",
     "output_type": "stream",
     "text": [
      "  (0, 4510)\t0.37585200906943095\n",
      "  (0, 4509)\t0.15067952202110121\n",
      "  (0, 3977)\t0.35824282579770717\n",
      "  (0, 3891)\t0.2513701337444424\n",
      "  (0, 3859)\t0.2687337842782034\n",
      "  (0, 3745)\t0.3474159305568934\n",
      "  (0, 3662)\t0.289667706026126\n",
      "  (0, 3572)\t0.2948447699589719\n",
      "  (0, 2934)\t0.22985922881362789\n",
      "  (0, 1946)\t0.13426597012551528\n",
      "  (0, 1533)\t0.1775340408664745\n",
      "  (0, 517)\t0.3212236390393022\n",
      "  (0, 487)\t0.12311702495396104\n",
      "  (0, 232)\t0.24500246746075766\n",
      "  (1, 4703)\t0.3690316138310882\n",
      "  (1, 4071)\t0.6155404378897409\n",
      "  (1, 3437)\t0.36938346726278787\n",
      "  (1, 2577)\t0.3753782739477479\n",
      "  (1, 1252)\t0.36005273457651366\n",
      "  (1, 593)\t0.27916781906343274\n",
      "  (2, 4749)\t0.183519759894041\n",
      "  (2, 4639)\t0.1499621052111866\n",
      "  (2, 4471)\t0.10288372455294761\n",
      "  (2, 4205)\t0.11745195236813158\n",
      "  (2, 3851)\t0.23019983004363131\n",
      "  :\t:\n",
      "  (6998, 2504)\t0.11506270305235244\n",
      "  (6998, 2128)\t0.136414816457353\n",
      "  (6998, 1982)\t0.07127177033239217\n",
      "  (6998, 1787)\t0.2197802296099393\n",
      "  (6998, 1752)\t0.19903031224918907\n",
      "  (6998, 1715)\t0.13512414483053384\n",
      "  (6998, 1592)\t0.13576207935487095\n",
      "  (6998, 1575)\t0.18490560879304016\n",
      "  (6998, 1542)\t0.13425466304215034\n",
      "  (6998, 1537)\t0.0988728635224412\n",
      "  (6998, 1299)\t0.2952476515687978\n",
      "  (6998, 1185)\t0.2324953426850051\n",
      "  (6998, 487)\t0.3619785768886916\n",
      "  (6999, 4867)\t0.16249490575678424\n",
      "  (6999, 4151)\t0.5215541403845099\n",
      "  (6999, 3822)\t0.3648445916304317\n",
      "  (6999, 2913)\t0.1657434524926957\n",
      "  (6999, 2696)\t0.14626936767167004\n",
      "  (6999, 1982)\t0.14173523186678397\n",
      "  (6999, 1669)\t0.2816401985964642\n",
      "  (6999, 1533)\t0.17300370966315723\n",
      "  (6999, 1406)\t0.28799294428686767\n",
      "  (6999, 1238)\t0.31414554708834436\n",
      "  (6999, 313)\t0.2848936946879829\n",
      "  (6999, 50)\t0.35702569835125225\n"
     ]
    }
   ],
   "source": [
    "print(Train_X_Tfidf)"
   ]
  },
  {
   "cell_type": "code",
   "execution_count": 18,
   "metadata": {},
   "outputs": [
    {
     "name": "stdout",
     "output_type": "stream",
     "text": [
      "Naive Bayes Accuracy Score ->  80.06666666666666\n"
     ]
    }
   ],
   "source": [
    "Naive = naive_bayes.MultinomialNB()\n",
    "Naive.fit(Train_X_Tfidf,Train_Y)\n",
    "predictions_NB = Naive.predict(Test_X_Tfidf)\n",
    "print(\"Naive Bayes Accuracy Score -> \",accuracy_score(Test_Y,predictions_NB)*100)"
   ]
  }
 ],
 "metadata": {
  "kernelspec": {
   "display_name": "Python 3",
   "language": "python",
   "name": "python3"
  },
  "language_info": {
   "codemirror_mode": {
    "name": "ipython",
    "version": 3
   },
   "file_extension": ".py",
   "mimetype": "text/x-python",
   "name": "python",
   "nbconvert_exporter": "python",
   "pygments_lexer": "ipython3",
   "version": "3.7.3"
  }
 },
 "nbformat": 4,
 "nbformat_minor": 2
}
